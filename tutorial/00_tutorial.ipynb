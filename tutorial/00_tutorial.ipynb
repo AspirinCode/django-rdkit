{
 "metadata": {
  "name": "",
  "signature": "sha256:4e920131be9963154b85fb3fdb9ae03a47ba8064d27809e8e5165180d8bef7a5"
 },
 "nbformat": 3,
 "nbformat_minor": 0,
 "worksheets": [
  {
   "cells": [
    {
     "cell_type": "markdown",
     "metadata": {},
     "source": [
      "Create a postgres database for the tutorial application.\n",
      "\n",
      "    $ createdb django_rdkit_tutorial\n",
      "\n",
      "Create a django project for the tutorial application\n",
      "\n",
      "    $ django-admin startproject tutorial\n",
      "\n",
      "Change working directory to the top directory of the django project (this is were this notebook is running)\n",
      "\n",
      "    $ cd tutorial/\n",
      "\n",
      "Edit the database settings in file `tutorial/settings.py` to match the following:\n",
      "\n",
      "    DATABASES={\n",
      "        \"default\": {\n",
      "            'ENGINE': 'django_rdkit.backend',\n",
      "            'NAME': 'django_rdkit_tutorial',\n",
      "            'USER': '',\n",
      "            'PASSWORD': '',\n",
      "            'HOST': '',\n",
      "            'PORT': '',\n",
      "        }\n",
      "    }\n",
      "\n",
      "(Please note that the `django_rdkit.backend` database backend is used instead of the usual Postgresql engine provided by django)"
     ]
    },
    {
     "cell_type": "code",
     "collapsed": false,
     "input": [
      "import os\n",
      "\n",
      "import django\n",
      "from django.core.management import call_command\n",
      "\n",
      "os.environ['DJANGO_SETTINGS_MODULE'] = 'tutorial.settings'\n",
      "\n",
      "django.setup()\n"
     ],
     "language": "python",
     "metadata": {},
     "outputs": [],
     "prompt_number": 1
    },
    {
     "cell_type": "markdown",
     "metadata": {},
     "source": [
      "initialize the database schema (the django-rdkit backed will take care of installing the cartridge if needed).\n",
      "\n",
      "    $ python manage.py migrate"
     ]
    },
    {
     "cell_type": "code",
     "collapsed": false,
     "input": [
      "call_command('migrate')"
     ],
     "language": "python",
     "metadata": {},
     "outputs": [
      {
       "output_type": "stream",
       "stream": "stdout",
       "text": [
        "Operations to perform:\n",
        "  Synchronize unmigrated apps: staticfiles, messages\n",
        "  Apply all migrations: admin, contenttypes, auth, sessions\n",
        "Synchronizing apps without migrations:\n",
        "  Creating tables...\n",
        "    Running deferred SQL...\n",
        "  Installing custom SQL...\n",
        "Running migrations:\n",
        "  Rendering model states..."
       ]
      },
      {
       "output_type": "stream",
       "stream": "stdout",
       "text": [
        " DONE\n",
        "  Applying contenttypes.0001_initial..."
       ]
      },
      {
       "output_type": "stream",
       "stream": "stdout",
       "text": [
        " OK\n",
        "  Applying auth.0001_initial..."
       ]
      },
      {
       "output_type": "stream",
       "stream": "stdout",
       "text": [
        " OK\n",
        "  Applying admin.0001_initial..."
       ]
      },
      {
       "output_type": "stream",
       "stream": "stdout",
       "text": [
        " OK\n",
        "  Applying contenttypes.0002_remove_content_type_name..."
       ]
      },
      {
       "output_type": "stream",
       "stream": "stdout",
       "text": [
        " OK\n",
        "  Applying auth.0002_alter_permission_name_max_length..."
       ]
      },
      {
       "output_type": "stream",
       "stream": "stdout",
       "text": [
        " OK\n",
        "  Applying auth.0003_alter_user_email_max_length..."
       ]
      },
      {
       "output_type": "stream",
       "stream": "stdout",
       "text": [
        " OK\n",
        "  Applying auth.0004_alter_user_username_opts..."
       ]
      },
      {
       "output_type": "stream",
       "stream": "stdout",
       "text": [
        " OK\n",
        "  Applying auth.0005_alter_user_last_login_null..."
       ]
      },
      {
       "output_type": "stream",
       "stream": "stdout",
       "text": [
        " OK\n",
        "  Applying auth.0006_require_contenttypes_0002..."
       ]
      },
      {
       "output_type": "stream",
       "stream": "stdout",
       "text": [
        " OK\n",
        "  Applying sessions.0001_initial..."
       ]
      },
      {
       "output_type": "stream",
       "stream": "stdout",
       "text": [
        " OK\n"
       ]
      }
     ],
     "prompt_number": 3
    },
    {
     "cell_type": "markdown",
     "metadata": {},
     "source": [
      "now extend the django project with an application named `app`\n",
      "\n",
      "    $ python manage.py startapp app\n"
     ]
    },
    {
     "cell_type": "code",
     "collapsed": false,
     "input": [
      "call_command('startapp', 'app')"
     ],
     "language": "python",
     "metadata": {},
     "outputs": [],
     "prompt_number": 3
    },
    {
     "cell_type": "markdown",
     "metadata": {},
     "source": [
      "Edit the file `app/models.py` to look like the following\n",
      "\n",
      "    from django_rdkit import models\n",
      "    \n",
      "    class Compound(models.Model):\n",
      "    \n",
      "        name = models.CharField(max_length=256)\n",
      "        molecule = models.MolField()\n",
      "    \n",
      "        torsionbv = models.BfpField(null=True)\n",
      "        mfp2 = models.BfpField(null=True)\n",
      "        ffp2 = models.BfpField(null=True)\n",
      "    \n",
      "(please note that `models` is imported from `django_rdkit` instead of from `django.db`)"
     ]
    },
    {
     "cell_type": "markdown",
     "metadata": {},
     "source": [
      "And then add `app` to the `INSTALLED_APPLICATIONS` in `tutorial/settings.py`\n",
      "\n",
      "    INSTALLED_APPS = (\n",
      "        'django.contrib.admin',\n",
      "        'django.contrib.auth',\n",
      "        'django.contrib.contenttypes',\n",
      "        'django.contrib.sessions',\n",
      "        'django.contrib.messages',\n",
      "        'django.contrib.staticfiles',\n",
      "        'app',\n",
      "    )"
     ]
    },
    {
     "cell_type": "markdown",
     "metadata": {},
     "source": [
      "Now that the application was added to the project settings we can extend the database schema and actually start using it. We'll do so in the next notebook.\n"
     ]
    }
   ],
   "metadata": {}
  }
 ]
}