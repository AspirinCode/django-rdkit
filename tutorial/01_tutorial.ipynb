{
 "metadata": {
  "name": "",
  "signature": "sha256:c636e963699584d66b1e4224df0b221bff0728be4133d98cce5ca0c956665ee1"
 },
 "nbformat": 3,
 "nbformat_minor": 0,
 "worksheets": [
  {
   "cells": [
    {
     "cell_type": "code",
     "collapsed": false,
     "input": [
      "import os\n",
      "\n",
      "import django\n",
      "from django.core.management import call_command\n",
      "\n",
      "os.environ['DJANGO_SETTINGS_MODULE'] = 'tutorial.settings'\n",
      "\n",
      "django.setup()\n"
     ],
     "language": "python",
     "metadata": {},
     "outputs": [],
     "prompt_number": 1
    },
    {
     "cell_type": "markdown",
     "metadata": {},
     "source": [
      "To start using the `Compound` model that has been defined as part of the `app` application, the database schema must be exteded to support it. In order to do so, please create an initial database migration for the `app` application. \n",
      "\n",
      "    $ python manage.py makemigrations app\n"
     ]
    },
    {
     "cell_type": "code",
     "collapsed": false,
     "input": [
      "call_command('makemigrations', 'app')"
     ],
     "language": "python",
     "metadata": {},
     "outputs": [
      {
       "output_type": "stream",
       "stream": "stdout",
       "text": [
        "Migrations for 'app':\n",
        "  0001_initial.py:\n",
        "    - Create model Compound\n"
       ]
      }
     ],
     "prompt_number": 2
    },
    {
     "cell_type": "markdown",
     "metadata": {},
     "source": [
      "You can verify the operations performed by the migration with the following command\n",
      "\n",
      "    $ python manage.py sqlmigrate app 0001\n"
     ]
    },
    {
     "cell_type": "code",
     "collapsed": false,
     "input": [
      "call_command('sqlmigrate', 'app', '0001')"
     ],
     "language": "python",
     "metadata": {},
     "outputs": [
      {
       "output_type": "stream",
       "stream": "stdout",
       "text": [
        "BEGIN;\n",
        "CREATE TABLE \"app_compound\" (\"id\" serial NOT NULL PRIMARY KEY, \"name\" varchar(256) NOT NULL, \"molecule\" mol NOT NULL, \"torsionbv\" bfp NULL, \"mfp2\" bfp NULL, \"ffp2\" bfp NULL);\n",
        "CREATE INDEX \"app_compound_molecule_gist_idx\" ON \"app_compound\" USING GIST (\"molecule\");\n",
        "CREATE INDEX \"app_compound_torsionbv_gist_idx\" ON \"app_compound\" USING GIST (\"torsionbv\");\n",
        "CREATE INDEX \"app_compound_mfp2_gist_idx\" ON \"app_compound\" USING GIST (\"mfp2\");\n",
        "CREATE INDEX \"app_compound_ffp2_gist_idx\" ON \"app_compound\" USING GIST (\"ffp2\");\n",
        "\n",
        "COMMIT;\n"
       ]
      }
     ],
     "prompt_number": 3
    },
    {
     "cell_type": "markdown",
     "metadata": {},
     "source": [
      "(Please note that a GIST index is by default created for each model field that maps to a column type defined by the RDKit extension)."
     ]
    },
    {
     "cell_type": "markdown",
     "metadata": {},
     "source": [
      "You can now apply the migration by running the `migrate` command again\n",
      "\n",
      "    $ python manage.py migrate"
     ]
    },
    {
     "cell_type": "code",
     "collapsed": false,
     "input": [
      "call_command('migrate')"
     ],
     "language": "python",
     "metadata": {},
     "outputs": [
      {
       "output_type": "stream",
       "stream": "stdout",
       "text": [
        "Operations to perform:\n",
        "  Synchronize unmigrated apps: staticfiles, messages\n",
        "  Apply all migrations: admin, app, contenttypes, auth, sessions\n",
        "Synchronizing apps without migrations:\n",
        "  Creating tables...\n",
        "    Running deferred SQL...\n",
        "  Installing custom SQL...\n",
        "Running migrations:\n",
        "  Rendering model states..."
       ]
      },
      {
       "output_type": "stream",
       "stream": "stdout",
       "text": [
        " DONE\n",
        "  Applying app.0001_initial..."
       ]
      },
      {
       "output_type": "stream",
       "stream": "stdout",
       "text": [
        " OK\n"
       ]
      }
     ],
     "prompt_number": 4
    },
    {
     "cell_type": "markdown",
     "metadata": {},
     "source": [
      "The database is initially empty, but we can start interacting with it:"
     ]
    },
    {
     "cell_type": "code",
     "collapsed": false,
     "input": [
      "from app.models import Compound\n",
      "\n",
      "benzene = Compound.objects.create(name='benzene', molecule='c1ccccc1')"
     ],
     "language": "python",
     "metadata": {},
     "outputs": [],
     "prompt_number": 5
    },
    {
     "cell_type": "code",
     "collapsed": false,
     "input": [
      "Compound.objects.count()"
     ],
     "language": "python",
     "metadata": {},
     "outputs": [
      {
       "metadata": {},
       "output_type": "pyout",
       "prompt_number": 9,
       "text": [
        "1"
       ]
      }
     ],
     "prompt_number": 9
    },
    {
     "cell_type": "code",
     "collapsed": false,
     "input": [
      "from rdkit import Chem\n",
      "\n",
      "for compound in Compound.objects.all():\n",
      "    print compound.name, Chem.MolToSmiles(compound.molecule)"
     ],
     "language": "python",
     "metadata": {},
     "outputs": [
      {
       "output_type": "stream",
       "stream": "stdout",
       "text": [
        "benzene c1ccccc1\n"
       ]
      }
     ],
     "prompt_number": 10
    },
    {
     "cell_type": "markdown",
     "metadata": {},
     "source": [
      "We can now remove this test compound from the database (more data will be loaded in the next notebook)"
     ]
    },
    {
     "cell_type": "code",
     "collapsed": false,
     "input": [
      "Compound.objects.all().delete()"
     ],
     "language": "python",
     "metadata": {},
     "outputs": [],
     "prompt_number": 12
    },
    {
     "cell_type": "code",
     "collapsed": false,
     "input": [
      "Compound.objects.count()"
     ],
     "language": "python",
     "metadata": {},
     "outputs": [
      {
       "metadata": {},
       "output_type": "pyout",
       "prompt_number": 13,
       "text": [
        "0"
       ]
      }
     ],
     "prompt_number": 13
    },
    {
     "cell_type": "code",
     "collapsed": false,
     "input": [],
     "language": "python",
     "metadata": {},
     "outputs": []
    }
   ],
   "metadata": {}
  }
 ]
}