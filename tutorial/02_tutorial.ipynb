{
 "metadata": {
  "name": "",
  "signature": "sha256:590c76f70e1f4c280c11a563f63d97c779f27634167c6c0b8bf9d7196e201b50"
 },
 "nbformat": 3,
 "nbformat_minor": 0,
 "worksheets": [
  {
   "cells": [
    {
     "cell_type": "code",
     "collapsed": false,
     "input": [
      "import os\n",
      "\n",
      "import django\n",
      "from django.core.management import call_command\n",
      "\n",
      "os.environ['DJANGO_SETTINGS_MODULE'] = 'tutorial.settings'\n",
      "\n",
      "django.setup()\n"
     ],
     "language": "python",
     "metadata": {},
     "outputs": [],
     "prompt_number": 1
    },
    {
     "cell_type": "code",
     "collapsed": false,
     "input": [
      "path = '../../chembl/chembl_20_chemreps.txt'"
     ],
     "language": "python",
     "metadata": {},
     "outputs": [],
     "prompt_number": 2
    },
    {
     "cell_type": "code",
     "collapsed": false,
     "input": [
      "from rdkit import Chem\n",
      "\n",
      "def chembl(path, limit=None):\n",
      "    count = 0\n",
      "    with open(path, 'rt') as f:\n",
      "        f.next() # skip header\n",
      "        for line in f:\n",
      "            name, smiles = line.split()[:2]\n",
      "            molecule = Chem.MolFromSmiles(smiles)\n",
      "            if molecule:\n",
      "                yield name, molecule\n",
      "                count += 1\n",
      "            if limit and count == limit:\n",
      "                break"
     ],
     "language": "python",
     "metadata": {},
     "outputs": [],
     "prompt_number": 3
    },
    {
     "cell_type": "code",
     "collapsed": false,
     "input": [
      "from app.models import Compound\n",
      "\n",
      "limit = None\n",
      "for name, molecule in chembl(path, limit):\n",
      "    smiles = Chem.MolToSmiles(molecule)\n",
      "    test_molecule = Chem.MolFromSmiles(smiles)\n",
      "    if not test_molecule:\n",
      "        print \"mol-smiles roundtrip issue:\", name\n",
      "        continue\n",
      "    Compound.objects.create(name=name, molecule=molecule)"
     ],
     "language": "python",
     "metadata": {},
     "outputs": [
      {
       "output_type": "stream",
       "stream": "stdout",
       "text": [
        "mol-smiles roundtrip issue: CHEMBL1741001\n",
        "mol-smiles roundtrip issue:"
       ]
      },
      {
       "output_type": "stream",
       "stream": "stdout",
       "text": [
        " CHEMBL3188982\n"
       ]
      }
     ],
     "prompt_number": 4
    },
    {
     "cell_type": "code",
     "collapsed": false,
     "input": [
      "Compound.objects.count()"
     ],
     "language": "python",
     "metadata": {},
     "outputs": [
      {
       "metadata": {},
       "output_type": "pyout",
       "prompt_number": 5,
       "text": [
        "1455711"
       ]
      }
     ],
     "prompt_number": 5
    },
    {
     "cell_type": "code",
     "collapsed": false,
     "input": [
      "def test_substructure_query(substructure):\n",
      "    query = Compound.objects.filter(molecule__hassubstruct=substructure)\n",
      "    print '{0}: {1} matches'.format(substructure, query.count())\n",
      "    for cmpd in query[:5]:\n",
      "        print cmpd.name, Chem.MolToSmiles(cmpd.molecule)"
     ],
     "language": "python",
     "metadata": {},
     "outputs": [],
     "prompt_number": 6
    },
    {
     "cell_type": "code",
     "collapsed": false,
     "input": [],
     "language": "python",
     "metadata": {},
     "outputs": []
    }
   ],
   "metadata": {}
  }
 ]
}