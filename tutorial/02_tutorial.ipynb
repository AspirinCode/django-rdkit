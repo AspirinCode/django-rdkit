{
 "metadata": {
  "name": "",
  "signature": "sha256:d38d622b08dac1cd832c802bb24a55f7c6d7f602de84b3e882f5b9fa95092194"
 },
 "nbformat": 3,
 "nbformat_minor": 0,
 "worksheets": [
  {
   "cells": [
    {
     "cell_type": "code",
     "collapsed": false,
     "input": [
      "import os\n",
      "\n",
      "import django\n",
      "from django.core.management import call_command\n",
      "\n",
      "os.environ['DJANGO_SETTINGS_MODULE'] = 'tutorial.settings'\n",
      "\n",
      "django.setup()\n"
     ],
     "language": "python",
     "metadata": {},
     "outputs": [],
     "prompt_number": 1
    },
    {
     "cell_type": "code",
     "collapsed": false,
     "input": [
      "path = '../../chembl/chembl_20_chemreps.txt'"
     ],
     "language": "python",
     "metadata": {},
     "outputs": [],
     "prompt_number": 2
    },
    {
     "cell_type": "code",
     "collapsed": false,
     "input": [
      "from rdkit import Chem\n",
      "\n",
      "def chembl(path, limit=None):\n",
      "    count = 0\n",
      "    with open(path, 'rt') as f:\n",
      "        f.next() # skip header\n",
      "        for line in f:\n",
      "            name, smiles, _, _ = line.split()\n",
      "            molecule = Chem.MolFromSmiles(smiles)\n",
      "            if molecule:\n",
      "                yield name, molecule\n",
      "                count += 1\n",
      "            if limit and count == limit:\n",
      "                break"
     ],
     "language": "python",
     "metadata": {},
     "outputs": [],
     "prompt_number": 3
    },
    {
     "cell_type": "code",
     "collapsed": false,
     "input": [
      "from app.models import Compound\n",
      "\n",
      "limit = 10000\n",
      "for name, molecule in chembl(path, limit):\n",
      "    Compound.objects.create(name=name, molecule=molecule)"
     ],
     "language": "python",
     "metadata": {},
     "outputs": [],
     "prompt_number": 4
    },
    {
     "cell_type": "code",
     "collapsed": false,
     "input": [
      "Compound.objects.count()"
     ],
     "language": "python",
     "metadata": {},
     "outputs": [
      {
       "metadata": {},
       "output_type": "pyout",
       "prompt_number": 5,
       "text": [
        "10000"
       ]
      }
     ],
     "prompt_number": 5
    },
    {
     "cell_type": "code",
     "collapsed": false,
     "input": [
      "def test_substructure_query(substructure):\n",
      "    query = Compound.objects.filter(molecule__hassubstruct=substructure)\n",
      "    print '{0}: {1} matches'.format(substructure, query.count())\n",
      "    for cmpd in query[:5]:\n",
      "        print cmpd.name, Chem.MolToSmiles(cmpd.molecule)"
     ],
     "language": "python",
     "metadata": {},
     "outputs": [],
     "prompt_number": 6
    }
   ],
   "metadata": {}
  }
 ]
}