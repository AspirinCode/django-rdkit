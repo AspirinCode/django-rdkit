{
 "metadata": {
  "name": "",
  "signature": "sha256:20586c97503ec05a2a21f371c1e940cd76485cc66579a9557dd38f466a57e4b3"
 },
 "nbformat": 3,
 "nbformat_minor": 0,
 "worksheets": [
  {
   "cells": [
    {
     "cell_type": "code",
     "collapsed": false,
     "input": [
      "from __future__ import print_function\n",
      "\n",
      "import os\n",
      "\n",
      "import django\n",
      "from django.utils import six\n",
      "from django.core.management import call_command\n",
      "\n",
      "os.environ['DJANGO_SETTINGS_MODULE'] = 'tutorial.settings'\n",
      "\n",
      "django.setup()\n"
     ],
     "language": "python",
     "metadata": {},
     "outputs": [],
     "prompt_number": 1
    },
    {
     "cell_type": "code",
     "collapsed": false,
     "input": [
      "path = '../../chembl/chembl_20_chemreps.txt'"
     ],
     "language": "python",
     "metadata": {},
     "outputs": [],
     "prompt_number": 2
    },
    {
     "cell_type": "code",
     "collapsed": false,
     "input": [
      "from rdkit import Chem\n",
      "\n",
      "def chembl(path, limit=None):\n",
      "    count = 0\n",
      "    with open(path, 'rt') as f:\n",
      "        six.next(f) # skip header\n",
      "        for line in f:\n",
      "            name, smiles = line.split()[:2]\n",
      "            molecule = Chem.MolFromSmiles(smiles)\n",
      "            if molecule:\n",
      "                yield name, molecule\n",
      "                count += 1\n",
      "            if limit and count == limit:\n",
      "                break"
     ],
     "language": "python",
     "metadata": {},
     "outputs": [],
     "prompt_number": 3
    },
    {
     "cell_type": "code",
     "collapsed": false,
     "input": [
      "from app.models import Compound\n",
      "\n",
      "limit = None\n",
      "for name, molecule in chembl(path, limit):\n",
      "    smiles = Chem.MolToSmiles(molecule)\n",
      "    test_molecule = Chem.MolFromSmiles(smiles)\n",
      "    if not test_molecule:\n",
      "        print(\"mol-smiles roundtrip issue:\", name)\n",
      "        continue\n",
      "    Compound.objects.create(name=name, molecule=molecule)"
     ],
     "language": "python",
     "metadata": {},
     "outputs": [
      {
       "output_type": "stream",
       "stream": "stdout",
       "text": [
        "mol-smiles roundtrip issue: CHEMBL1741001\n"
       ]
      }
     ],
     "prompt_number": 4
    },
    {
     "cell_type": "code",
     "collapsed": false,
     "input": [
      "Compound.objects.count()"
     ],
     "language": "python",
     "metadata": {},
     "outputs": [
      {
       "metadata": {},
       "output_type": "pyout",
       "prompt_number": 5,
       "text": [
        "1455712"
       ]
      }
     ],
     "prompt_number": 5
    }
   ],
   "metadata": {}
  }
 ]
}