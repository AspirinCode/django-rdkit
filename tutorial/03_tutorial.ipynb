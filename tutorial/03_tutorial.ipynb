{
 "metadata": {
  "name": "",
  "signature": "sha256:764b11d20b2846c91ee406d6db6c6596f9eb68b95176c1ffb16d7d7c5738c6bc"
 },
 "nbformat": 3,
 "nbformat_minor": 0,
 "worksheets": [
  {
   "cells": [
    {
     "cell_type": "code",
     "collapsed": false,
     "input": [
      "from __future__ import print_function\n",
      "\n",
      "import os\n",
      "\n",
      "import django\n",
      "from django.core.management import call_command\n",
      "\n",
      "os.environ['DJANGO_SETTINGS_MODULE'] = 'tutorial.settings'\n",
      "\n",
      "django.setup()\n"
     ],
     "language": "python",
     "metadata": {},
     "outputs": [],
     "prompt_number": 1
    },
    {
     "cell_type": "markdown",
     "metadata": {},
     "source": [
      "Substructure searches"
     ]
    },
    {
     "cell_type": "code",
     "collapsed": false,
     "input": [
      "from django_rdkit.models import *\n",
      "from app.models import *\n",
      "\n",
      "def smiles_substructure_query(substructure):\n",
      "    query = Compound.objects.filter(molecule__hassubstruct=substructure)\n",
      "    for cmpd in query.annotate(smiles=MOL_TO_SMILES('molecule'))[:5]:\n",
      "        print(cmpd.name, cmpd.smiles)"
     ],
     "language": "python",
     "metadata": {},
     "outputs": [],
     "prompt_number": 2
    },
    {
     "cell_type": "code",
     "collapsed": false,
     "input": [
      "smiles_substructure_query('c1cccc2c1nncc2')"
     ],
     "language": "python",
     "metadata": {},
     "outputs": [
      {
       "output_type": "stream",
       "stream": "stdout",
       "text": [
        "CHEMBL1956219 COc1cc2nncc(-c3ccc(NC(C)C)nc3)c2cc1OC\n",
        "CHEMBL1956223 COc1cc2nncc(-c3ccc(NCC(C)C)nc3)c2cc1OC\n",
        "CHEMBL1956217 COc1cc2nncc(-c3ccc(C#N)nc3)c2cc1OC\n",
        "CHEMBL1956220 COc1cc2nncc(-c3ccc(CC(C)C)nc3)c2cc1OC\n",
        "CHEMBL1956247 COc1cc2nncc(-c3cnc(N4CCC(O)(c5ccccn5)CC4)c(Cl)c3)c2cc1OC\n"
       ]
      }
     ],
     "prompt_number": 3
    },
    {
     "cell_type": "code",
     "collapsed": false,
     "input": [
      "smiles_substructure_query('c1ccnc2c1nccn2')"
     ],
     "language": "python",
     "metadata": {},
     "outputs": [
      {
       "output_type": "stream",
       "stream": "stdout",
       "text": [
        "CHEMBL1984025 Cn1c2nc3ccccc3nc2c2ccccc2c1=O\n",
        "CHEMBL1915895 COc1ccc2nc(C)c3c(C)nc(-c4ccccc4C(N)=O)n3c2n1\n",
        "CHEMBL1916297 CCCOCCn1c2cc(-c3ccc(OC)nc3)cnc2nc(N2CCN(CCO)CC2)c1=O\n",
        "CHEMBL1926721 CCOC(=O)Nc1cc(NCCN(C)C)c2nc(-c3ccccc3)c(-c3ccccc3)nc2n1\n",
        "CHEMBL1983266 O/C(=C\\c1nc2ncc(Br)cc2nc1O)c1ccc(F)cc1\n"
       ]
      }
     ],
     "prompt_number": 4
    },
    {
     "cell_type": "code",
     "collapsed": false,
     "input": [
      "smiles_substructure_query('c1cncc2n1ccn2')"
     ],
     "language": "python",
     "metadata": {},
     "outputs": [
      {
       "output_type": "stream",
       "stream": "stdout",
       "text": [
        "CHEMBL1957497 CS(=O)(=O)N1CCN(Cc2cn3cc(-c4cccc5[nH]ncc54)nc(N4CCOCC4)c3n2)CC1\n",
        "CHEMBL1968472 COc1ccc(-c2cn3c4ccccc4nc3c(/C=C/c3cccs3)n2)cc1\n",
        "CHEMBL1957503 CCNC(=O)c1cn2cc(-c3cccc4[nH]ncc43)nc(N3CCOCC3)c2n1\n",
        "CHEMBL1957505 CN(C)CCCNC(=O)c1cn2cc(-c3cccc4[nH]ncc43)nc(N3CCOCC3)c2n1\n",
        "CHEMBL1957499 CS(=O)(=O)N1CCN(Cc2cn3c(n2)c(N2CCOCC2)nc(-c2cccc4[nH]ncc42)c3C#N)CC1\n"
       ]
      }
     ],
     "prompt_number": 5
    },
    {
     "cell_type": "code",
     "collapsed": false,
     "input": [
      "smiles_substructure_query('Nc1ncnc(N)n1')"
     ],
     "language": "python",
     "metadata": {},
     "outputs": [
      {
       "output_type": "stream",
       "stream": "stdout",
       "text": [
        "CHEMBL1481807 CCc1ccccc1Nc1nc(N)nc(CSc2nnnn2C)n1\n",
        "CHEMBL1532566 COc1ccc(Nc2nc(N)nc(CSC(=S)N3CCN(c4ccccc4)CC3)n2)cc1\n",
        "CHEMBL1487147 C#CCOCCOCCOCCNc1nc(N2CCN(C(=O)C([C@@H](C)O)n3cc([C@@H](N)CCCCN)nn3)CC2)nc(N2CCN(C(=O)[C@H](CCC(=O)O)n3cc([C@@H](N)[C@H](C)CC)nn3)CC2)n1\n",
        "CHEMBL1895657 Cl.C#CCOCCOCCOCCNc1nc(N2CCN(C(=O)Cn3cc(CC(C)O)nn3)CC2)nc(N2CCN(C(=O)[C@H]([C@@H](C)O)n3cc(CCCCN)nn3)CC2)n1\n",
        "CHEMBL1487139 Cl.C#CCOCCOCCOCCNc1nc(N2CCN(C(=O)Cn3cc(CC(C)O)nn3)CC2)nc(N2CCN(C(=O)[C@H](CCCCN)n3cc(CCC(=O)O)nn3)CC2)n1\n"
       ]
      }
     ],
     "prompt_number": 6
    },
    {
     "cell_type": "code",
     "collapsed": false,
     "input": [
      "smiles_substructure_query('c1scnn1')"
     ],
     "language": "python",
     "metadata": {},
     "outputs": [
      {
       "output_type": "stream",
       "stream": "stdout",
       "text": [
        "CHEMBL1540483 COc1ccccc1-c1nnc(SC2CCc3ccccc3NC2=O)s1\n",
        "CHEMBL1486591 CC1(C(=O)Nc2nnc(SCc3ccccc3)s2)Cc2ccccc2C(=O)O1\n",
        "CHEMBL1534543 CC(C)Cc1nnc(NC(=O)c2ccc3c(c2)OCCO3)s1\n",
        "CHEMBL1528492 N#Cc1c(O)nc(SCC(=O)Nc2nnc(C(F)(F)F)s2)nc1-c1ccccc1\n",
        "CHEMBL1524895 Cc1nnc(NC(=O)CSc2nc3ccccc3[nH]2)s1\n"
       ]
      }
     ],
     "prompt_number": 7
    },
    {
     "cell_type": "code",
     "collapsed": false,
     "input": [
      "smiles_substructure_query('c1cccc2c1ncs2')"
     ],
     "language": "python",
     "metadata": {},
     "outputs": [
      {
       "output_type": "stream",
       "stream": "stdout",
       "text": [
        "CHEMBL1524022 Cc1ccc2sc(NNC(=O)C3=COCCO3)nc2c1C\n",
        "CHEMBL1892775 CC(C)(C)CC(=O)Nc1ccc(-c2nc3cc(Cl)ccc3s2)cc1\n",
        "CHEMBL1951947 CC(=O)c1c(NNc2nc3ccccc3s2)cc(C)oc1=O\n",
        "CHEMBL1446570 CS(=O)(=O)c1ccc2nc(NC(=O)c3cccc(NS(=O)(=O)c4ccc(F)c(F)c4)c3)sc2c1\n",
        "CHEMBL1970134 Cl.C[C@H](N)C(=O)Nc1ccc(-c2nc3ccccc3s2)cc1Cl\n"
       ]
      }
     ],
     "prompt_number": 8
    },
    {
     "cell_type": "code",
     "collapsed": false,
     "input": [
      "smiles_substructure_query('c1cccc2c1CNCCN2')"
     ],
     "language": "python",
     "metadata": {},
     "outputs": [
      {
       "output_type": "stream",
       "stream": "stdout",
       "text": [
        "CHEMBL1970838 Cc1ccc2c(c1)C(=O)N(N(C)C)CC(=O)N2\n",
        "CHEMBL1731867 O=C1c2ccccc2N[C@@H]2C=CC[C@@H]2N1O\n",
        "CHEMBL1884296 CC(=O)N1CC(=O)Nc2ccc(C)cc2C1c1ccccc1\n",
        "CHEMBL1987287 O=C1Nc2cc([N+](=O)[O-])ccc2C(=O)N2CCC[C@@H]12\n",
        "CHEMBL1909823 COC(=O)C(c1ccc(Cl)cc1)N1C(=O)c2ccc(NCc3ccc(Br)cc3)cc2NC(=S)C1c1ccc(Cl)cc1\n"
       ]
      }
     ],
     "prompt_number": 9
    },
    {
     "cell_type": "markdown",
     "metadata": {},
     "source": [
      "SMARTS-based queries"
     ]
    },
    {
     "cell_type": "code",
     "collapsed": false,
     "input": [
      "def smarts_substructure_query(substructure):\n",
      "    query = Compound.objects.filter(molecule__hassubstruct=QMOL(Value(substructure)))\n",
      "    for cmpd in query.annotate(smiles=MOL_TO_SMILES('molecule'))[:5]:\n",
      "        print(cmpd.name, cmpd.smiles)"
     ],
     "language": "python",
     "metadata": {},
     "outputs": [],
     "prompt_number": 10
    },
    {
     "cell_type": "code",
     "collapsed": false,
     "input": [
      "smarts_substructure_query('c1[o,s]ncn1')"
     ],
     "language": "python",
     "metadata": {},
     "outputs": [
      {
       "output_type": "stream",
       "stream": "stdout",
       "text": [
        "CHEMBL1911370 COc1cc2c(Cn3oc(=O)[nH]c3=O)cnc(C(=O)c3cccc(OC(C)C)c3)c2cc1OC\n",
        "CHEMBL1912004 c1cn(-c2nsc(N(CCCNCc3ccc4c(c3)OCO4)Cc3ccc4occc4c3)n2)cn1\n",
        "CHEMBL1446704 Cc1nc(-c2cccc(-c3noc(C)n3)c2)no1\n",
        "CHEMBL1505703 COc1cccc(-c2nc(-c3ccncc3)no2)c1\n",
        "CHEMBL1951307 Cc1cc(-c2noc(-c3ccc(Oc4ccccc4)cc3)n2)sc1CN1CC(C(=O)O)C1\n"
       ]
      }
     ],
     "prompt_number": 11
    },
    {
     "cell_type": "markdown",
     "metadata": {},
     "source": [
      "Using Stereochemistry"
     ]
    },
    {
     "cell_type": "code",
     "collapsed": false,
     "input": [
      "smiles_substructure_query('NC(=O)[C@@H]1CCCN1C=O')"
     ],
     "language": "python",
     "metadata": {},
     "outputs": [
      {
       "output_type": "stream",
       "stream": "stdout",
       "text": [
        "CHEMBL1077115 CC(C)[C@@H]1OC(=O)[C@@H]2CCCN2C(=O)[C@@H](Cc2ccccc2)NC(=O)[C@@H]2CCCN2C(=O)[C@@H](Cc2ccccc2)NC1=O\n",
        "CHEMBL1793835 CCCNC(=O)[C@@H](NC(=O)[C@@H]1CCCN1C(=O)[C@H](CC(=O)O)NC(=O)C1Cc2ccccc2CN1C(=O)[C@H](CCCCN)NC(=O)C[C@H](C)C1CCCCC1)[C@@H](C)O\n",
        "CHEMBL2310858 CCCC1CCN([C@@H](C)C(=O)N[C@@H](CC(=O)O)C(=O)N(C)[C@@H](Cc2ccccc2)C(N)=O)[C@H]1C(=O)[C@H](Cc1c[nH]c2ccccc12)NC(=O)CNC(=O)[C@@H]1CCCN1C(=O)CCc1ccc(OS(=O)(=O)O)cc1\n",
        "CHEMBL1963002 CCCCCCCCOc1ccc2cc(C(=O)N[C@H]3CCCNC(=O)[C@@H]4C[C@H](N)CN4C(=O)[C@H](CCCCN)NC(=O)[C@H](CCc4ccc(O)cc4)NC(=O)[C@@H]4CCCN4C(=O)[C@H]([C@@H](C)O)NC3=O)ccc2c1\n",
        "CHEMBL1963088 CCCCCCOc1ccc2cc(C(=O)N[C@H]3CCCNC(=O)[C@@H]4C[C@H](N)CN4C(=O)[C@H]([C@H](C)O)NC(=O)[C@H](CCc4ccc(O)cc4)NC(=O)[C@@H]4C[C@H](N)CN4C(=O)[C@H]([C@@H](C)O)NC3=O)ccc2c1\n"
       ]
      }
     ],
     "prompt_number": 12
    },
    {
     "cell_type": "code",
     "collapsed": false,
     "input": [
      "from django_rdkit.config import config\n",
      "\n",
      "config.do_chiral_sss = True"
     ],
     "language": "python",
     "metadata": {},
     "outputs": [],
     "prompt_number": 13
    },
    {
     "cell_type": "code",
     "collapsed": false,
     "input": [
      "smiles_substructure_query('NC(=O)[C@@H]1CCCN1C=O')"
     ],
     "language": "python",
     "metadata": {},
     "outputs": [
      {
       "output_type": "stream",
       "stream": "stdout",
       "text": [
        "CHEMBL1077115 CC(C)[C@@H]1OC(=O)[C@@H]2CCCN2C(=O)[C@@H](Cc2ccccc2)NC(=O)[C@@H]2CCCN2C(=O)[C@@H](Cc2ccccc2)NC1=O\n",
        "CHEMBL1793835 CCCNC(=O)[C@@H](NC(=O)[C@@H]1CCCN1C(=O)[C@H](CC(=O)O)NC(=O)C1Cc2ccccc2CN1C(=O)[C@H](CCCCN)NC(=O)C[C@H](C)C1CCCCC1)[C@@H](C)O\n",
        "CHEMBL2310858 CCCC1CCN([C@@H](C)C(=O)N[C@@H](CC(=O)O)C(=O)N(C)[C@@H](Cc2ccccc2)C(N)=O)[C@H]1C(=O)[C@H](Cc1c[nH]c2ccccc12)NC(=O)CNC(=O)[C@@H]1CCCN1C(=O)CCc1ccc(OS(=O)(=O)O)cc1\n",
        "CHEMBL1963002 CCCCCCCCOc1ccc2cc(C(=O)N[C@H]3CCCNC(=O)[C@@H]4C[C@H](N)CN4C(=O)[C@H](CCCCN)NC(=O)[C@H](CCc4ccc(O)cc4)NC(=O)[C@@H]4CCCN4C(=O)[C@H]([C@@H](C)O)NC3=O)ccc2c1\n",
        "CHEMBL1963088 CCCCCCOc1ccc2cc(C(=O)N[C@H]3CCCNC(=O)[C@@H]4C[C@H](N)CN4C(=O)[C@H]([C@H](C)O)NC(=O)[C@H](CCc4ccc(O)cc4)NC(=O)[C@@H]4C[C@H](N)CN4C(=O)[C@H]([C@@H](C)O)NC3=O)ccc2c1\n"
       ]
      }
     ],
     "prompt_number": 14
    },
    {
     "cell_type": "code",
     "collapsed": false,
     "input": [
      "smiles_substructure_query('NC(=O)[C@H]1CCCN1C=O')"
     ],
     "language": "python",
     "metadata": {},
     "outputs": [
      {
       "output_type": "stream",
       "stream": "stdout",
       "text": [
        "CHEMBL1477715 CC/C=C/C(=O)N1CC2(CC(c3cccc(NC(=O)CC(c4ccccc4)c4ccccc4)c3)=NO2)C[C@@H]1C(N)=O\n",
        "CHEMBL1544264 C/C=C\\C(=O)Nc1cccc(C2=NOC3(C2)C[C@H](C(N)=O)N(C(=O)/C=C/CC)C3)c1\n",
        "CHEMBL3217159 Cl.Cl.Cc1ccc(-c2c(CN)c(CC(C)C)nc(C)c2CC(=O)N2CCC[C@@H]2C(N)=O)cc1\n",
        "CHEMBL3037877 Cc1ccc(C(=O)N[C@@H]2C(=O)N[C@H](C(C)C)C(=O)N3CCC[C@@H]3C(=O)N(C)CC(=O)N(C)[C@H](C(C)C)C(=O)O[C@H]2C)c2nc3c(C(=O)N[C@@H]4C(=O)N[C@H](C(C)C)C(=O)N5CCC[C@@H]5C(=O)N(C)CC(=O)N(C)[C@H](C(C)C)C(=O)O[C@H]4C)c(NC(=O)OCc4ccc([N+](=O)[O-])cc4)c(=O)c(C)c-3oc12\n",
        "CHEMBL2079678 CC[C@H](C)[C@@H](NC(=O)[C@@H](Cc1ccc(O)cc1)NC(=O)[C@H]1CCCN1C(=O)[C@@H](CCCN=C(N)N)NC(=O)[C@H](CCC[N+](C)(C)C)N=[N+]=[N-])C(=O)N[C@H](CC(C)C)C(=O)[O-]\n"
       ]
      }
     ],
     "prompt_number": 15
    }
   ],
   "metadata": {}
  }
 ]
}