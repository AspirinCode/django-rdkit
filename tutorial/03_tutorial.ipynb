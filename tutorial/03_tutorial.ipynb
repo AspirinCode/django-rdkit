{
 "metadata": {
  "name": "",
  "signature": "sha256:c01f1606b3d475d7eb31a4f6aab821ee43f774f1bfdd103d4c145a53503a28d5"
 },
 "nbformat": 3,
 "nbformat_minor": 0,
 "worksheets": [
  {
   "cells": [
    {
     "cell_type": "code",
     "collapsed": false,
     "input": [
      "import os\n",
      "\n",
      "import django\n",
      "from django.core.management import call_command\n",
      "\n",
      "os.environ['DJANGO_SETTINGS_MODULE'] = 'tutorial.settings'\n",
      "\n",
      "django.setup()\n"
     ],
     "language": "python",
     "metadata": {},
     "outputs": [],
     "prompt_number": 1
    },
    {
     "cell_type": "markdown",
     "metadata": {},
     "source": [
      "Substructure searches"
     ]
    },
    {
     "cell_type": "code",
     "collapsed": false,
     "input": [
      "from django_rdkit.db.models import *\n",
      "from app.models import *\n",
      "\n",
      "def smiles_substructure_query(substructure):\n",
      "    query = Compound.objects.filter(molecule__hassubstruct=substructure)\n",
      "    print '{0}: {1} matches'.format(substructure, query.count())\n",
      "    for cmpd in query.annotate(smiles=MOL_TO_SMILES('molecule'))[:5]:\n",
      "        print cmpd.name, cmpd.smiles"
     ],
     "language": "python",
     "metadata": {},
     "outputs": [],
     "prompt_number": 2
    },
    {
     "cell_type": "code",
     "collapsed": false,
     "input": [
      "smiles_substructure_query('c1cccc2c1nncc2')"
     ],
     "language": "python",
     "metadata": {},
     "outputs": [
      {
       "output_type": "stream",
       "stream": "stdout",
       "text": [
        "c1cccc2c1nncc2: 392 matches\n",
        "CHEMBL2409408 COc1cc2nnc(C(N)=O)c(Nc3ccc(C)cc3F)c2cc1N1CCN(C(=O)[C@@H](C)O)CC1\n",
        "CHEMBL1956235 COc1cc2nncc(-c3cnc(NC(C)C)c(C)c3)c2cc1OC\n",
        "CHEMBL2204557 Cc1nn(C(=O)c2ccc(Cl)cc2Cl)c2c1nnc1cc(Cl)c(F)cc21\n",
        "CHEMBL2385187 COc1cc2c(cc1OCCCN1CCCCC1)nccc2Oc1ccc(NC(=O)c2nn(-c3ccc(C)cc3C)c3ccccc3c2=O)cc1F\n",
        "CHEMBL2385179 COc1cc2c(cc1OCCCN1CCOCC1)nccc2Oc1ccc(NC(=O)c2nn(-c3cc(C)ccc3C)c3ccccc3c2=O)cc1F\n"
       ]
      }
     ],
     "prompt_number": 3
    },
    {
     "cell_type": "code",
     "collapsed": false,
     "input": [
      "smiles_substructure_query('c1ccnc2c1nccn2')"
     ],
     "language": "python",
     "metadata": {},
     "outputs": [
      {
       "output_type": "stream",
       "stream": "stdout",
       "text": [
        "c1ccnc2c1nccn2: 782 matches\n",
        "CHEMBL2286186 CC(C)[C@@H](C)Nc1c2nccnc2nc(F)c1-c1c(F)cc(F)cc1F\n",
        "CHEMBL1966627 Cc1ccc(S(=O)(=O)c2c(N)c3nc4ccccc4n3c3nc4ccccc4nc32)cc1\n",
        "CHEMBL3246874 CN(Cc1cnc2nc(N)c(Br)c(N)c2n1)c1ccc(C(=O)N[C@@H](CCC(=O)O)C(=O)O)cc1\n",
        "CHEMBL2338028 CCc1[nH]c2nc(Sc3cnc4nccnc4c3)nc(N3CCCC(N)C3)c2c1Cl\n",
        "CHEMBL2132223 CN(Cc1ccccc1)C(=O)c1ncn2c1c(O)nc1cccnc12\n"
       ]
      }
     ],
     "prompt_number": 4
    },
    {
     "cell_type": "code",
     "collapsed": false,
     "input": [
      "smiles_substructure_query('c1cncc2n1ccn2')"
     ],
     "language": "python",
     "metadata": {},
     "outputs": [
      {
       "output_type": "stream",
       "stream": "stdout",
       "text": [
        "c1cncc2n1ccn2: 1234 matches\n",
        "CHEMBL3265015 COc1ccc(Nc2nc(-c3ccc(C(N)=O)cc3C)cn3ccnc23)cc1OC\n",
        "CHEMBL3265012 COc1ccc(Nc2nc(-c3ccc(C(N)=O)c(F)c3)cn3ccnc23)cc1OC\n",
        "CHEMBL3265014 COc1ccc(Nc2nc(-c3ccc(C(N)=O)c(OC)c3)cn3ccnc23)cc1OC\n",
        "CHEMBL3265024 COc1ccc(Nc2nc(-c3ccc4c(c3)NC(=O)CO4)cn3ccnc23)cc1OC\n",
        "CHEMBL3265020 COc1ccc(Nc2nc(-c3ccc4[nH]ccc4c3)cn3ccnc23)cc1OC\n"
       ]
      }
     ],
     "prompt_number": 5
    },
    {
     "cell_type": "code",
     "collapsed": false,
     "input": [
      "smiles_substructure_query('Nc1ncnc(N)n1')"
     ],
     "language": "python",
     "metadata": {},
     "outputs": [
      {
       "output_type": "stream",
       "stream": "stdout",
       "text": [
        "Nc1ncnc(N)n1: 5395 matches\n",
        "CHEMBL2402523 CNc1nc(NC2CCCC2)nc(NC2(C#N)CCCCC2)n1\n",
        "CHEMBL2402520 CNc1nc(NC2(C#N)CCCCC2)nc(SC)n1\n",
        "CHEMBL2402538 CCNc1nc(Cl)nc(NC2(C#N)CCCCC2)n1\n",
        "CHEMBL2392708 CNc1nc(C)nc(N2CCC(C(=O)NCc3ccccc3OC)CC2)n1\n",
        "CHEMBL2132277 COc1ccc(Cl)cc1Nc1nc(Cl)nc(NCCO)n1\n"
       ]
      }
     ],
     "prompt_number": 6
    },
    {
     "cell_type": "code",
     "collapsed": false,
     "input": [
      "smiles_substructure_query('c1scnn1')"
     ],
     "language": "python",
     "metadata": {},
     "outputs": [
      {
       "output_type": "stream",
       "stream": "stdout",
       "text": [
        "c1scnn1: 12665 matches\n",
        "CHEMBL3287164 C=C[C@]1(C)C[C@@H](OC(=O)CSc2nnc(NC(=O)CN(CC)CC)s2)[C@@]2(C)[C@@H]3C(=O)CC[C@@]3(CC[C@H]2C)[C@@H](C)[C@@H]1O\n",
        "CHEMBL2386027 Cc1cc(C)n2nc(SCc3nnc(SCc4cccc(Cl)c4)s3)nc2n1\n",
        "CHEMBL2358293 Cc1nnc(SCC(=O)Nc2cc(S(=O)(=O)N3CCOCC3)ccc2N2CCCC2)s1\n",
        "CHEMBL2009068 CN(C)C(=S)Nc1nnc(NC23CC4CC(CC(C4)C2)C3)s1\n",
        "CHEMBL2012630 O=C(O)C[C@H]1CC[C@H](c2ccc(C(=O)Nc3nnc(Cc4ccc(Cl)cc4)s3)cc2)CC1\n"
       ]
      }
     ],
     "prompt_number": 7
    },
    {
     "cell_type": "code",
     "collapsed": false,
     "input": [
      "smiles_substructure_query('c1cccc2c1ncs2')"
     ],
     "language": "python",
     "metadata": {},
     "outputs": [
      {
       "output_type": "stream",
       "stream": "stdout",
       "text": [
        "c1cccc2c1ncs2: 15977 matches\n",
        "CHEMBL2401906 O=C(Nc1cccc(-c2nc3ccccc3s2)c1)c1cccnc1Cl\n",
        "CHEMBL2401905 O=C(Nc1cccc(-c2nc3ccccc3s2)c1)c1cnccc1Cl\n",
        "CHEMBL2387492 COc1ccc(-c2cc(C(=O)Nc3nc4ccc(Cl)cc4s3)nc3cc(-c4ccccc4)nn32)cc1\n",
        "CHEMBL2326477 Nc1nc2cc3c(cc2s1)CCN(Cc1ccc(F)cc1)CC3\n",
        "CHEMBL2322622 COc1ccc(-n2nc(C(=O)NCC(=O)Nc3nc4ccc(C)cc4s3)c3ccccc3c2=O)cc1\n"
       ]
      }
     ],
     "prompt_number": 8
    },
    {
     "cell_type": "code",
     "collapsed": false,
     "input": [
      "smiles_substructure_query('c1cccc2c1CNCCN2')"
     ],
     "language": "python",
     "metadata": {},
     "outputs": [
      {
       "output_type": "stream",
       "stream": "stdout",
       "text": [
        "c1cccc2c1CNCCN2: 1512 matches\n",
        "CHEMBL3261487 O=C1c2cccc3c2N(CCN1[C@@H]1CN2CCC1CC2)S(=O)(=O)N3\n",
        "CHEMBL2171836 COc1ccc(S(=O)(=O)N2Cc3cc(-c4ccco4)ccc3N(Cc3cncn3C)C[C@H]2Cc2ccc(O)cc2)cc1\n",
        "CHEMBL2146645 CCCCN1c2ccc(Cl)cc2C(=O)N(CC2CCCCC2)CC1=O\n",
        "CHEMBL3250134 [I-].CCN1CC[N+](C)(CC)Cc2ccccc21\n",
        "CHEMBL3250131 [I-].C[N+]1(C)CCNc2ccccc2C1\n"
       ]
      }
     ],
     "prompt_number": 9
    },
    {
     "cell_type": "markdown",
     "metadata": {},
     "source": [
      "SMARTS-based queries"
     ]
    },
    {
     "cell_type": "code",
     "collapsed": false,
     "input": [
      "def smarts_substructure_query(substructure):\n",
      "    query = Compound.objects.filter(molecule__hassubstruct=QMOL(Value(substructure)))\n",
      "    for cmpd in query.annotate(smiles=MOL_TO_SMILES('molecule'))[:5]:\n",
      "        print cmpd.name, cmpd.smiles"
     ],
     "language": "python",
     "metadata": {},
     "outputs": [],
     "prompt_number": 10
    },
    {
     "cell_type": "code",
     "collapsed": false,
     "input": [
      "smarts_substructure_query('c1[o,s]ncn1')"
     ],
     "language": "python",
     "metadata": {},
     "outputs": [
      {
       "output_type": "stream",
       "stream": "stdout",
       "text": [
        "CHEMBL3276810 CC(C)(C)NCC(O)COc1nc(-c2ccccc2)ns1\n",
        "CHEMBL2204974 CC(C)(F)c1noc(C2CCN(c3ncnc(Nc4ccc(C(=O)O)cc4F)c3F)CC2)n1\n",
        "CHEMBL1542394 COc1ccc2c(C)cc(SCC(=O)Nc3nsc(-c4ccc(C)cc4)n3)nc2c1\n",
        "CHEMBL2288098 O=c1nc(-c2c(F)cccc2F)sn1-c1cc(F)c(OC(F)(F)F)cc1F\n",
        "CHEMBL2288102 O=c1nc(-c2c(F)cccc2F)sn1-c1cc(F)c(OC(F)(F)F)cc1Cl\n"
       ]
      }
     ],
     "prompt_number": 11
    },
    {
     "cell_type": "code",
     "collapsed": false,
     "input": [],
     "language": "python",
     "metadata": {},
     "outputs": [],
     "prompt_number": 11
    }
   ],
   "metadata": {}
  }
 ]
}