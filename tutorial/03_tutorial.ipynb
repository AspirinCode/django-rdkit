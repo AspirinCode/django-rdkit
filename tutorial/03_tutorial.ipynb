{
 "metadata": {
  "name": "",
  "signature": "sha256:955393d642a424283d8ff1f655d998b3c3e615e8923f66f505dcc203b71e3390"
 },
 "nbformat": 3,
 "nbformat_minor": 0,
 "worksheets": [
  {
   "cells": [
    {
     "cell_type": "code",
     "collapsed": false,
     "input": [
      "import os\n",
      "\n",
      "import django\n",
      "from django.core.management import call_command\n",
      "\n",
      "os.environ['DJANGO_SETTINGS_MODULE'] = 'tutorial.settings'\n",
      "\n",
      "django.setup()\n"
     ],
     "language": "python",
     "metadata": {},
     "outputs": [],
     "prompt_number": 1
    },
    {
     "cell_type": "markdown",
     "metadata": {},
     "source": [
      "Substructure searches"
     ]
    },
    {
     "cell_type": "code",
     "collapsed": false,
     "input": [
      "from django_rdkit.models import *\n",
      "from app.models import *\n",
      "\n",
      "def smiles_substructure_query(substructure):\n",
      "    query = Compound.objects.filter(molecule__hassubstruct=substructure)\n",
      "    print '{0}: {1} matches'.format(substructure, query.count())\n",
      "    for cmpd in query.annotate(smiles=MOL_TO_SMILES('molecule'))[:5]:\n",
      "        print cmpd.name, cmpd.smiles"
     ],
     "language": "python",
     "metadata": {},
     "outputs": [],
     "prompt_number": 2
    },
    {
     "cell_type": "code",
     "collapsed": false,
     "input": [
      "smiles_substructure_query('c1cccc2c1nncc2')"
     ],
     "language": "python",
     "metadata": {},
     "outputs": [
      {
       "output_type": "stream",
       "stream": "stdout",
       "text": [
        "c1cccc2c1nncc2: 392 matches\n",
        "CHEMBL2333120 CC(C)Nc1c2ccc(N3CCOCC3)cc2nnc1C(N)=O\n",
        "CHEMBL2159685 COc1cc2nncc(-c3cnc(N4CCC(C(C)(C)O)CC4)c(C)c3)c2cc1C\n",
        "CHEMBL1956243 COc1cc2nncc(-c3cnc(NC(C)C)c(C(N)=O)c3)c2cc1OC\n",
        "CHEMBL1956246 COc1cc2nncc(-c3cnc(N4CCC(O)(c5ccccn5)CC4)c(C)c3)c2cc1OC\n",
        "CHEMBL1956247 COc1cc2nncc(-c3cnc(N4CCC(O)(c5ccccn5)CC4)c(Cl)c3)c2cc1OC\n"
       ]
      }
     ],
     "prompt_number": 3
    },
    {
     "cell_type": "code",
     "collapsed": false,
     "input": [
      "smiles_substructure_query('c1ccnc2c1nccn2')"
     ],
     "language": "python",
     "metadata": {},
     "outputs": [
      {
       "output_type": "stream",
       "stream": "stdout",
       "text": [
        "c1ccnc2c1nccn2: 782 matches\n",
        "CHEMBL1710313 CC(C)NC(=O)c1ccc(Cn2c(=O)c3cccn3c3cccnc32)cc1\n",
        "CHEMBL2331855 CCc1[nH]c2nc(Sc3cnc4nccnc4c3)nc(N3CC[C@@H](N)C3)c2c1Cl\n",
        "CHEMBL2286189 CC(C)CNc1c2nccnc2nc(F)c1-c1cccc(F)c1F\n",
        "CHEMBL2286195 COc1nc2nccnc2c(NCC(C)C)c1C#Cc1ccccc1\n",
        "CHEMBL2286202 CC(C)C(C)Nc1c2nccnc2nc(F)c1-c1c(F)cc(F)cc1F\n"
       ]
      }
     ],
     "prompt_number": 4
    },
    {
     "cell_type": "code",
     "collapsed": false,
     "input": [
      "smiles_substructure_query('c1cncc2n1ccn2')"
     ],
     "language": "python",
     "metadata": {},
     "outputs": [
      {
       "output_type": "stream",
       "stream": "stdout",
       "text": [
        "c1cncc2n1ccn2: 1234 matches\n",
        "CHEMBL2235320 OCc1cccc(-c2cnc3cnc(-c4cn[nH]c4)cn32)c1\n",
        "CHEMBL2235323 c1n[nH]cc1-c1cnc2cnc(-c3cn[nH]c3)cn21\n",
        "CHEMBL2447998 Cl.Cl.Cc1cnc2c(N3CCNCC3)nc(Cl)cn12\n",
        "CHEMBL2448002 Cl.Cl.Clc1cnc2cnc(N3CCNCC3)cn12\n",
        "CHEMBL2375541 Cc1cnc2c(NCCN3CCNCC3)nc3cc(-c4ccccc4)sc3n12\n"
       ]
      }
     ],
     "prompt_number": 5
    },
    {
     "cell_type": "code",
     "collapsed": false,
     "input": [
      "smiles_substructure_query('Nc1ncnc(N)n1')"
     ],
     "language": "python",
     "metadata": {},
     "outputs": [
      {
       "output_type": "stream",
       "stream": "stdout",
       "text": [
        "Nc1ncnc(N)n1: 5395 matches\n",
        "CHEMBL2281658 CC(=O)Nc1ccc2nc(NC(=O)CNc3ccc(-c4nc(N5CC(C)CC(C)C5)nc(N5CC(C)CC(C)C5)n4)cc3)sc2c1\n",
        "CHEMBL2281665 CC1CC(C)CN(c2nc(-c3ccc(NCC(=O)Nc4nc5ccc(I)cc5s4)cc3)nc(N3CC(C)CC(C)C3)n2)C1\n",
        "CHEMBL2236099 Cc1ccccc1Nc1nc(N)nc(CSc2nnc(-c3ccccc3)n2/N=C/c2ccccc2)n1\n",
        "CHEMBL2236100 Cc1ccccc1Nc1nc(N)nc(CSc2nnc(-c3ccccc3)n2/N=C/c2ccc(Br)cc2)n1\n",
        "CHEMBL2236104 COc1ccc(Nc2nc(N)nc(CSc3nc4ccccc4[nH]3)n2)cc1\n"
       ]
      }
     ],
     "prompt_number": 6
    },
    {
     "cell_type": "code",
     "collapsed": false,
     "input": [
      "smiles_substructure_query('c1scnn1')"
     ],
     "language": "python",
     "metadata": {},
     "outputs": [
      {
       "output_type": "stream",
       "stream": "stdout",
       "text": [
        "c1scnn1: 12665 matches\n",
        "CHEMBL3306326 Cc1nnc(SCC2=C(C(=O)O)N3C(=O)[C@@H](NC(=O)C[S+]([O-])CC(F)(F)F)[C@H]3SC2)s1\n",
        "CHEMBL3305231 Cc1nnc(SCC2=C(C(=O)OC3OC(=O)c4ccccc43)N3C(=O)[C@@H](NC(=O)[C@H](N)c4ccccc4)[C@H]3SC2)s1\n",
        "CHEMBL3276280 Cl.Cc1nnc(SCC2=C(C(=O)OC3OC(=O)c4ccccc43)N3C(=O)[C@@H](NC(=O)[C@H](N)c4ccccc4)[C@H]3SC2)s1\n",
        "CHEMBL2234902 O=C(c1ccc(-n2c(=O)c3ccccc3nc2-c2ccccc2)cc1)[n+]1nc([S-])sc1-c1ccc([N+](=O)[O-])cc1\n",
        "CHEMBL2236899 O=[N+]([O-])c1ccc(-c2cn3nc(Cl)sc3n2)cc1\n"
       ]
      }
     ],
     "prompt_number": 7
    },
    {
     "cell_type": "code",
     "collapsed": false,
     "input": [
      "smiles_substructure_query('c1cccc2c1ncs2')"
     ],
     "language": "python",
     "metadata": {},
     "outputs": [
      {
       "output_type": "stream",
       "stream": "stdout",
       "text": [
        "c1cccc2c1ncs2: 15977 matches\n",
        "CHEMBL3183636 Cc1cnccc1NC(=O)c1ccc2nc(N3CCCC3)sc2c1\n",
        "CHEMBL3259843 Cl.COc1ccc2nc(N3CCNCC3COc3cccnc3)sc2c1\n",
        "CHEMBL3262141 Cl.FC(F)(F)c1ccc2nc(N3CCNCC3COc3cccnc3)sc2c1\n",
        "CHEMBL3244594 C=CCOn1cc(C(=O)O)c(=O)c2c3sc(=O)n(CC=C)c3ccc21\n",
        "CHEMBL3109687 Cc1nc2cc(F)ccc2c(=O)n1C(=S)NC(=O)Nc1nc2ccc(F)cc2s1\n"
       ]
      }
     ],
     "prompt_number": 8
    },
    {
     "cell_type": "code",
     "collapsed": false,
     "input": [
      "smiles_substructure_query('c1cccc2c1CNCCN2')"
     ],
     "language": "python",
     "metadata": {},
     "outputs": [
      {
       "output_type": "stream",
       "stream": "stdout",
       "text": [
        "c1cccc2c1CNCCN2: 1512 matches\n",
        "CHEMBL3220696 C[C@H](c1ccc(Cl)cc1)N1C(=O)c2cc(I)ccc2N(CCCCC(=O)O)C(=O)[C@H]1c1ccc(Cl)cc1\n",
        "CHEMBL2325047 CC(C)CCN1Cc2cc(/C=C/CO)ccc2N[C@@H](CC(C)C)C1=O\n",
        "CHEMBL2360153 COc1ccc(N2C(=O)c3ccccc3NC(=O)C2C(=O)Nc2ccc(N3CCOCC3)cc2)cc1\n",
        "CHEMBL2360199 Cc1ccc2c(c1)C(=O)N1c3cc(C)c(C)cc3NC(=O)C1C(=O)N2\n",
        "CHEMBL3189000 CN1CC(=O)N(CC(=O)Nc2ccc(OC(F)(F)F)cc2)c2ccccc2C1=O\n"
       ]
      }
     ],
     "prompt_number": 9
    },
    {
     "cell_type": "markdown",
     "metadata": {},
     "source": [
      "SMARTS-based queries"
     ]
    },
    {
     "cell_type": "code",
     "collapsed": false,
     "input": [
      "def smarts_substructure_query(substructure):\n",
      "    query = Compound.objects.filter(molecule__hassubstruct=QMOL(Value(substructure)))\n",
      "    for cmpd in query.annotate(smiles=MOL_TO_SMILES('molecule'))[:5]:\n",
      "        print cmpd.name, cmpd.smiles"
     ],
     "language": "python",
     "metadata": {},
     "outputs": [],
     "prompt_number": 10
    },
    {
     "cell_type": "code",
     "collapsed": false,
     "input": [
      "smarts_substructure_query('c1[o,s]ncn1')"
     ],
     "language": "python",
     "metadata": {},
     "outputs": [
      {
       "output_type": "stream",
       "stream": "stdout",
       "text": [
        "CHEMBL3126600 CCc1cc(-c2noc(-c3ccnc(C)c3)n2)cc(C)c1OC[C@@H](O)CNC(=O)CO\n",
        "CHEMBL3126634 CCc1cc(-c2noc(-c3cnc(CC(C)C)c(C)c3)n2)cc(C)c1OC[C@H](O)CNC(=O)CO\n",
        "CHEMBL1765433 COc1cc(O)c2c(c1Cl)C(=O)OCC(=O)NCC(=O)N[C@H](c1nc(C)no1)CSC2\n",
        "CHEMBL1706651 COc1ccc(-c2noc(CN(C)C3CCOCC3)n2)cc1\n",
        "CHEMBL1708300 Fc1cccc(Cc2noc(CN3CCOCC3)n2)c1\n"
       ]
      }
     ],
     "prompt_number": 11
    },
    {
     "cell_type": "markdown",
     "metadata": {},
     "source": [
      "Using Stereochemistry"
     ]
    },
    {
     "cell_type": "code",
     "collapsed": false,
     "input": [
      "smiles_substructure_query('NC(=O)[C@@H]1CCCN1C=O')"
     ],
     "language": "python",
     "metadata": {},
     "outputs": [
      {
       "output_type": "stream",
       "stream": "stdout",
       "text": [
        "NC(=O)[C@@H]1CCCN1C=O: 20943 matches\n",
        "CHEMBL3133918 NC(=O)[C@H](Cc1c[nH]c2ccccc12)NC(=O)[C@@H]1CCCN1C(=O)[C@H](CO)NC(=O)[C@@H](N)Cc1ccc(O)cc1\n",
        "CHEMBL3142863 C[C@@H](O)[C@@H]1NC(=O)[C@@H](NC(=O)CCCCCOc2ccc(-c3ccccc3)cc2)C[C@@H](O)[C@@H](O)NC(=O)[C@@H]2[C@@H](O)[C@@H](C)CN2C(=O)[C@H]([C@@H](C)O)NC(=O)[C@H]([C@H](O)[C@@H](O)c2ccc(O)cc2)NC(=O)[C@@H]2C[C@@H](O)CN2C1=O\n",
        "CHEMBL3092841 CCOC(=O)/C=C/CC[C@H](NC(=O)OCc1ccccc1)C(=O)N[C@H](C(=O)N1CCC[C@H]1C(=O)N[C@@H](CC(C)C)C(=O)OC)C(C)C\n",
        "CHEMBL2237205 CCCC[C@@H](C(=O)N1CCC[C@H]1C(=O)NC)[C@H](O)C(=O)NO\n",
        "CHEMBL3125261 CCc1cc(C(=O)N[C@@H]2C[C@@H](C(=O)NCc3nc4ccccc4o3)N(C(=O)c3coc4ccccc34)C2)n(C)n1\n"
       ]
      }
     ],
     "prompt_number": 12
    },
    {
     "cell_type": "code",
     "collapsed": false,
     "input": [
      "from django_rdkit.config import config\n",
      "\n",
      "config.do_chiral_sss = True"
     ],
     "language": "python",
     "metadata": {},
     "outputs": [],
     "prompt_number": 13
    },
    {
     "cell_type": "code",
     "collapsed": false,
     "input": [
      "smiles_substructure_query('NC(=O)[C@@H]1CCCN1C=O')"
     ],
     "language": "python",
     "metadata": {},
     "outputs": [
      {
       "output_type": "stream",
       "stream": "stdout",
       "text": [
        "NC(=O)[C@@H]1CCCN1C=O: 16465 matches\n",
        "CHEMBL3133918 NC(=O)[C@H](Cc1c[nH]c2ccccc12)NC(=O)[C@@H]1CCCN1C(=O)[C@H](CO)NC(=O)[C@@H](N)Cc1ccc(O)cc1\n",
        "CHEMBL3142863 C[C@@H](O)[C@@H]1NC(=O)[C@@H](NC(=O)CCCCCOc2ccc(-c3ccccc3)cc2)C[C@@H](O)[C@@H](O)NC(=O)[C@@H]2[C@@H](O)[C@@H](C)CN2C(=O)[C@H]([C@@H](C)O)NC(=O)[C@H]([C@H](O)[C@@H](O)c2ccc(O)cc2)NC(=O)[C@@H]2C[C@@H](O)CN2C1=O\n",
        "CHEMBL3092841 CCOC(=O)/C=C/CC[C@H](NC(=O)OCc1ccccc1)C(=O)N[C@H](C(=O)N1CCC[C@H]1C(=O)N[C@@H](CC(C)C)C(=O)OC)C(C)C\n",
        "CHEMBL2237205 CCCC[C@@H](C(=O)N1CCC[C@H]1C(=O)NC)[C@H](O)C(=O)NO\n",
        "CHEMBL3125261 CCc1cc(C(=O)N[C@@H]2C[C@@H](C(=O)NCc3nc4ccccc4o3)N(C(=O)c3coc4ccccc34)C2)n(C)n1\n"
       ]
      }
     ],
     "prompt_number": 14
    },
    {
     "cell_type": "code",
     "collapsed": false,
     "input": [
      "smiles_substructure_query('NC(=O)[C@H]1CCCN1C=O')"
     ],
     "language": "python",
     "metadata": {},
     "outputs": [
      {
       "output_type": "stream",
       "stream": "stdout",
       "text": [
        "NC(=O)[C@H]1CCCN1C=O: 3049 matches\n",
        "CHEMBL3221410 CC(C)C[C@@H]1C(=O)N(C)[C@@H](CC(C)C)C(=O)N[C@@H](CC(C)C)C(=O)N2CCC[C@@H]2C(=O)N(C)[C@@H](Cc2ccc(O)cc2)C(=O)N[C@@H](CC(C)C)C(=O)N1C\n",
        "CHEMBL2373510 CCOc1ccc(C[C@@H](NC(=O)Cc2ccccc2)C(=O)N[C@@H](Cc2ccccc2)C(=O)N[C@H](C(=O)N[C@@H](CC(N)=O)C(=O)N[C@@H](CCCCN)C(=O)N2CCC[C@@H]2C(=O)N[C@@H](CCCN=C(N)N)C(=O)N[C@@H](CCCN=C(N)N)C(N)=O)C(C)C)cc1\n",
        "CHEMBL2369362 CC[C@H](C)[C@@H]1NC(=O)[C@H](Cc2c[nH]c3ccccc23)NC(=O)CC2(CCCCC2)SSC[C@@H](C(=O)N2CCC[C@@H]2C(=O)N[C@H](Cc2c[nH]c3ccccc23)C(=O)N[C@H](C)C(N)=O)NC(=O)[C@H](CC(N)=O)NC(=O)[C@@H](CCC(N)=O)NC1=O\n",
        "CHEMBL2373993 CCOc1ccc(C[C@@H](NC(=O)CC23CC4CC(CC(C4)C2)C3)C(=O)N[C@@H](Cc2ccccc2)C(=O)N[C@H](C(=O)N[C@@H](CC(N)=O)C(=O)N[C@@H](CCCN=C(N)N)C(=O)N2CCC[C@@H]2C(=O)N[C@@H](CCCN=C(N)N)C(=O)N[C@@H](CCCN=C(N)N)C(N)=O)C(C)C)cc1\n",
        "CHEMBL2369361 CC[C@H](C)[C@@H]1NC(=O)[C@H](Cc2c[nH]c3ccccc23)NC(=O)CC2(CCCCC2)SSC[C@@H](C(=O)N2CCC[C@@H]2C(=O)N[C@H](CCCN=C(N)N)C(=O)N[C@H](Cc2c[nH]c3ccccc23)C(N)=O)NC(=O)[C@H](CC(N)=O)NC(=O)[C@@H](CCC(N)=O)NC1=O\n"
       ]
      }
     ],
     "prompt_number": 15
    }
   ],
   "metadata": {}
  }
 ]
}