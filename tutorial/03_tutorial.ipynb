{
 "metadata": {
  "name": "",
  "signature": "sha256:23b966b56625901e3321525704050c30a77c78eba66ec9c74b726c7bcf27dbca"
 },
 "nbformat": 3,
 "nbformat_minor": 0,
 "worksheets": [
  {
   "cells": [
    {
     "cell_type": "code",
     "collapsed": false,
     "input": [
      "import os\n",
      "\n",
      "import django\n",
      "from django.core.management import call_command\n",
      "\n",
      "os.environ['DJANGO_SETTINGS_MODULE'] = 'tutorial.settings'\n",
      "\n",
      "django.setup()\n"
     ],
     "language": "python",
     "metadata": {},
     "outputs": [],
     "prompt_number": 1
    },
    {
     "cell_type": "code",
     "collapsed": false,
     "input": [
      "from django_rdkit.db.models import *\n",
      "from app.models import Compound\n",
      "\n",
      "Compound.objects.update(\n",
      "    torsionbv=TORSIONBV_FP('molecule'),\n",
      "    mfp2=MORGANBV_FP('molecule'),\n",
      "    ffp2=FEATMORGANBV_FP('molecule'),\n",
      "    )"
     ],
     "language": "python",
     "metadata": {},
     "outputs": [
      {
       "metadata": {},
       "output_type": "pyout",
       "prompt_number": 2,
       "text": [
        "10000"
       ]
      }
     ],
     "prompt_number": 2
    }
   ],
   "metadata": {}
  }
 ]
}