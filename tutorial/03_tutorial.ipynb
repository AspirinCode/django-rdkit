{
 "metadata": {
  "name": "",
  "signature": "sha256:c81aff5e3ef38a0a170c964d8032f331a38c44f5ae3fa6a5d178edf40e05cfdd"
 },
 "nbformat": 3,
 "nbformat_minor": 0,
 "worksheets": [
  {
   "cells": [
    {
     "cell_type": "code",
     "collapsed": false,
     "input": [
      "import os\n",
      "\n",
      "import django\n",
      "from django.core.management import call_command\n",
      "\n",
      "os.environ['DJANGO_SETTINGS_MODULE'] = 'tutorial.settings'\n",
      "\n",
      "django.setup()\n"
     ],
     "language": "python",
     "metadata": {},
     "outputs": [],
     "prompt_number": 1
    },
    {
     "cell_type": "markdown",
     "metadata": {},
     "source": [
      "Substructure searches"
     ]
    },
    {
     "cell_type": "code",
     "collapsed": false,
     "input": [
      "from django_rdkit.db.models import *\n",
      "from app.models import *\n",
      "\n",
      "def smiles_substructure_query(substructure):\n",
      "    query = Compound.objects.filter(molecule__hassubstruct=substructure)\n",
      "    print '{0}: {1} matches'.format(substructure, query.count())\n",
      "    for cmpd in query.annotate(smiles=MOL_TO_SMILES('molecule'))[:5]:\n",
      "        print cmpd.name, cmpd.smiles"
     ],
     "language": "python",
     "metadata": {},
     "outputs": [],
     "prompt_number": 2
    },
    {
     "cell_type": "code",
     "collapsed": false,
     "input": [
      "smiles_substructure_query('c1cccc2c1nncc2')"
     ],
     "language": "python",
     "metadata": {},
     "outputs": [
      {
       "output_type": "stream",
       "stream": "stdout",
       "text": [
        "c1cccc2c1nncc2: 392 matches\n",
        "CHEMBL2333115 CC(C)Nc1c2cc(-c3cn[nH]c3)ccc2nnc1C(N)=O\n",
        "CHEMBL2333128 C[C@@H](Nc1c2ccc(-c3ccc(S(C)(=O)=O)cc3)cc2nnc1C(N)=O)C1CC1\n",
        "CHEMBL1956245 COc1cc2nncc(-c3cnc(NC(C)C)c(CO)c3)c2cc1OC\n",
        "CHEMBL2000574 COc1ccc(OC)c(/C=C/c2cnnc3ccccc23)c1\n",
        "CHEMBL2333121 CC(C)Nc1c2ccc(-c3cnsc3)cc2nnc1C(N)=O\n"
       ]
      }
     ],
     "prompt_number": 3
    },
    {
     "cell_type": "code",
     "collapsed": false,
     "input": [
      "smiles_substructure_query('c1ccnc2c1nccn2')"
     ],
     "language": "python",
     "metadata": {},
     "outputs": [
      {
       "output_type": "stream",
       "stream": "stdout",
       "text": [
        "c1ccnc2c1nccn2: 782 matches\n",
        "CHEMBL1929427 CCOC(=O)Nc1cc(NC(C)CCCN(CC)CC)c2nc(-c3ccccn3)c(-c3ccccn3)nc2n1\n",
        "CHEMBL2338011 CCc1[nH]c2nc(Sc3cnc4nccnc4c3)nc(N3CC(NC(=O)C4CC4)C3)c2c1Cl\n",
        "CHEMBL2338024 CCc1[nH]c2nc(Sc3cnc4nccnc4c3)nc(N3CC(O)C3)c2c1Cl\n",
        "CHEMBL1725577 O=C(Cn1c(=O)c2cccn2c2cccnc21)NCCCN1CCC(Cc2ccccc2)CC1\n",
        "CHEMBL2331834 CCc1[nH]c2nc(Sc3cnc4nccnc4c3)nc(N3C[C@H]4CN[C@H]4C3)c2c1Cl\n"
       ]
      }
     ],
     "prompt_number": 4
    },
    {
     "cell_type": "code",
     "collapsed": false,
     "input": [
      "smiles_substructure_query('c1cncc2n1ccn2')"
     ],
     "language": "python",
     "metadata": {},
     "outputs": [
      {
       "output_type": "stream",
       "stream": "stdout",
       "text": [
        "c1cncc2n1ccn2: 1234 matches\n",
        "CHEMBL3115500 CN1CCN(c2ccc(-c3ccc4nc5cncc(-c6ccc(N7CCN(C)CC7)cc6)n5c4c3)cc2)CC1\n",
        "CHEMBL2420580 CS(=O)(=O)N[C@H]1CC[C@H](Nc2nc3ccccc3n3ccnc23)CC1\n",
        "CHEMBL1982563 COCC(C)(C)CNc1nccc(-c2c(-c3ccc(F)cc3)nc3c(C)nccn32)n1\n",
        "CHEMBL1957498 CS(=O)(=O)N1CCN(Cc2nc3c(N4CCOCC4)nc(-c4cccc5[nH]ncc54)cn3c2Br)CC1\n",
        "CHEMBL1906127 NC(=O)c1cccc(-c2cnc3c(Nc4cccc(OC(F)(F)C(F)F)c4)nccn23)c1\n"
       ]
      }
     ],
     "prompt_number": 5
    },
    {
     "cell_type": "code",
     "collapsed": false,
     "input": [
      "smiles_substructure_query('Nc1ncnc(N)n1')"
     ],
     "language": "python",
     "metadata": {},
     "outputs": [
      {
       "output_type": "stream",
       "stream": "stdout",
       "text": [
        "Nc1ncnc(N)n1: 5395 matches\n",
        "CHEMBL3191360 COc1ccc(/C=N/Nc2nc(Nc3ccccc3)nc(N3CCCCC3)n2)cc1OC\n",
        "CHEMBL3193874 C(=N/Nc1nc(N2CCOCC2)nc(N2CCOCC2)n1)\\c1cccnc1\n",
        "CHEMBL3184909 CC(C)Nc1nc(N)nc(Cl)n1\n",
        "CHEMBL2271665 CC(C)Nc1nc(Cl)nc(N[C@H](C)c2ccccc2)n1\n",
        "CHEMBL2271669 CCCNc1nc(Cl)nc(N[C@H](C)c2ccccc2)n1\n"
       ]
      }
     ],
     "prompt_number": 6
    },
    {
     "cell_type": "code",
     "collapsed": false,
     "input": [
      "smiles_substructure_query('c1scnn1')"
     ],
     "language": "python",
     "metadata": {},
     "outputs": [
      {
       "output_type": "stream",
       "stream": "stdout",
       "text": [
        "c1scnn1: 12665 matches\n",
        "CHEMBL2260571 CCNc1nnc(-c2ccccc2O)s1\n",
        "CHEMBL2260543 Cc1ccc(-c2nnc(NC(=O)CC3SC(=O)NC3=O)s2)cc1\n",
        "CHEMBL2261135 Cc1cc(C(=O)Nc2nnc(SCc3ccccc3)s2)c2ccccc2n1\n",
        "CHEMBL2261140 CCS(=O)(=O)c1nnc(NC(=O)c2cc(C)nc3ccccc32)s1\n",
        "CHEMBL3219692 Cc1nnc(S(=O)(=O)CC(=O)C23CC4CC(CC(C4)C2)C3)s1\n"
       ]
      }
     ],
     "prompt_number": 7
    },
    {
     "cell_type": "code",
     "collapsed": false,
     "input": [
      "smiles_substructure_query('c1cccc2c1ncs2')"
     ],
     "language": "python",
     "metadata": {},
     "outputs": [
      {
       "output_type": "stream",
       "stream": "stdout",
       "text": [
        "c1cccc2c1ncs2: 15977 matches\n",
        "CHEMBL3185864 O=C(Nc1ccncc1Br)c1ccc2nc(N3CCCC3)sc2c1\n",
        "CHEMBL3197833 COCCn1c2ccc(S(N)(=O)=O)cc2s/c1=N\\C(=O)c1ccc2c(c1)OCCO2\n",
        "CHEMBL3192559 CCn1c2c(s/c1=N\\C(=O)c1ccc(N3C(=O)CCC3=O)cc1)c(OC)ccc2OC\n",
        "CHEMBL1572634 Cn1nc(C(=O)Nc2nc3ccc(S(C)(=O)=O)cc3s2)ccc1=O\n",
        "CHEMBL3216783 Cl.Cl.c1cc(-c2nc3ccc(C4=NCCN4)cc3s2)nc(-c2nc3ccc(C4=NCCN4)cc3s2)c1\n"
       ]
      }
     ],
     "prompt_number": 8
    },
    {
     "cell_type": "code",
     "collapsed": false,
     "input": [
      "smiles_substructure_query('c1cccc2c1CNCCN2')"
     ],
     "language": "python",
     "metadata": {},
     "outputs": [
      {
       "output_type": "stream",
       "stream": "stdout",
       "text": [
        "c1cccc2c1CNCCN2: 1512 matches\n",
        "CHEMBL1722652 C[C@@]12C(=O)Nc3ccc(Cl)cc3C(=O)N1[C@H]1c3cc(Br)ccc3OC[C@@H]1[C@@H]2c1ccccc1\n",
        "CHEMBL1715645 O=C(c1ccccc1F)N1CC(=O)Nc2ccc(Br)cc2C1c1ccc(F)cc1\n",
        "CHEMBL2011835 CC(C)[C@H](C(=O)N1CCC(NCCC2CCCCC2)CC1)N1CC(=O)Nc2ccc(Oc3ccccc3)cc2C1=O\n",
        "CHEMBL1875689 CCN1C(=O)[C@@H]2[C@H](C1=O)[C@@H]1C(=O)Nc3ccccc3C(=O)N1[C@@H]2c1cccc(C)c1\n",
        "CHEMBL2413590 O=C1Nc2ccccc2C(=O)N2C[C@H](O)C[C@@H]12\n"
       ]
      }
     ],
     "prompt_number": 9
    },
    {
     "cell_type": "markdown",
     "metadata": {},
     "source": [
      "SMARTS-based queries"
     ]
    },
    {
     "cell_type": "code",
     "collapsed": false,
     "input": [
      "def smarts_substructure_query(substructure):\n",
      "    query = Compound.objects.filter(molecule__hassubstruct=QMOL(Value(substructure)))\n",
      "    for cmpd in query.annotate(smiles=MOL_TO_SMILES('molecule'))[:5]:\n",
      "        print cmpd.name, cmpd.smiles"
     ],
     "language": "python",
     "metadata": {},
     "outputs": [],
     "prompt_number": 10
    },
    {
     "cell_type": "code",
     "collapsed": false,
     "input": [
      "smarts_substructure_query('c1[o,s]ncn1')"
     ],
     "language": "python",
     "metadata": {},
     "outputs": [
      {
       "output_type": "stream",
       "stream": "stdout",
       "text": [
        "CHEMBL3126585 CCc1cc(-c2noc(-c3cc(C)nc(C4CCCC4)c3)n2)cc(C)c1OC[C@@H](O)CNC(=O)CO\n",
        "CHEMBL3126600 CCc1cc(-c2noc(-c3ccnc(C)c3)n2)cc(C)c1OC[C@@H](O)CNC(=O)CO\n",
        "CHEMBL3115955 NCc1noc(-c2c3ccccc3nn2CCn2ccnc2)n1\n",
        "CHEMBL3110076 CCOc1ccc(N2CCN(c3noc(C4(NC(C)=O)CCC4)n3)[C@@H](C)C2)c(C)c1\n",
        "CHEMBL3087912 CC(=O)O[C@H]1CC[C@@]2(C)C(=CC[C@H]3[C@@H]4CC=C(c5nc(-c6ccccc6)no5)[C@@]4(C)CC[C@@H]32)C1\n"
       ]
      }
     ],
     "prompt_number": 11
    },
    {
     "cell_type": "markdown",
     "metadata": {},
     "source": [
      "Using Stereochemistry"
     ]
    },
    {
     "cell_type": "code",
     "collapsed": false,
     "input": [
      "smiles_substructure_query('NC(=O)[C@@H]1CCCN1C=O')"
     ],
     "language": "python",
     "metadata": {},
     "outputs": [
      {
       "output_type": "stream",
       "stream": "stdout",
       "text": [
        "NC(=O)[C@@H]1CCCN1C=O: 20943 matches\n",
        "CHEMBL3273007 CC(=O)N[C@@H](C)C(=O)N[C@@H](C)C(=O)N1CCC[C@H]1C(=O)NN(C)C(=O)O[C@@H](C)C(=O)O\n",
        "CHEMBL3238030 CCCC[C@@H]1NC(=O)[C@H](CC2C=Nc3ccccc32)NC(=O)[C@H](Cc2ccccc2)NC(=O)[C@@H]2CSSC[C@H](NC(=O)CN)C(=O)N[C@@H](CSSC[C@@H](C(=O)O)NC(=O)[C@@H]3CCCN3C1=O)C(=O)N[C@@H](CO)C(=O)N[C@@H](Cc1cnc[nH]1)C(=O)N1CCC[C@H]1C(=O)N[C@@H](CC)C(=O)N2\n",
        "CHEMBL3183239 C[C@@H](NC(=O)[C@@H]1CCCN1C(=O)[C@@H]1CCCN1C(=O)c1cccs1)c1ccccc1\n",
        "CHEMBL3184638 Cc1nc(NC(=O)N2CCCC2C(N)=O)sc1-c1ccnc(C(C)(C)C(F)(F)F)c1\n",
        "CHEMBL2418930 CC(C)C1CCC(C)CC1OCC(=O)N1CCC(CCCC2CCN(c3ccc(C(=O)N4CCCC4C(N)=O)cc3)CC2)CC1\n"
       ]
      }
     ],
     "prompt_number": 12
    },
    {
     "cell_type": "code",
     "collapsed": false,
     "input": [
      "from django_rdkit.db.backends.postgresql_psycopg2.config import config\n",
      "\n",
      "config.do_chiral_sss = True"
     ],
     "language": "python",
     "metadata": {},
     "outputs": [],
     "prompt_number": 13
    },
    {
     "cell_type": "code",
     "collapsed": false,
     "input": [
      "smiles_substructure_query('NC(=O)[C@@H]1CCCN1C=O')"
     ],
     "language": "python",
     "metadata": {},
     "outputs": [
      {
       "output_type": "stream",
       "stream": "stdout",
       "text": [
        "NC(=O)[C@@H]1CCCN1C=O: 16465 matches\n",
        "CHEMBL3273007 CC(=O)N[C@@H](C)C(=O)N[C@@H](C)C(=O)N1CCC[C@H]1C(=O)NN(C)C(=O)O[C@@H](C)C(=O)O\n",
        "CHEMBL3238030 CCCC[C@@H]1NC(=O)[C@H](CC2C=Nc3ccccc32)NC(=O)[C@H](Cc2ccccc2)NC(=O)[C@@H]2CSSC[C@H](NC(=O)CN)C(=O)N[C@@H](CSSC[C@@H](C(=O)O)NC(=O)[C@@H]3CCCN3C1=O)C(=O)N[C@@H](CO)C(=O)N[C@@H](Cc1cnc[nH]1)C(=O)N1CCC[C@H]1C(=O)N[C@@H](CC)C(=O)N2\n",
        "CHEMBL3183239 C[C@@H](NC(=O)[C@@H]1CCCN1C(=O)[C@@H]1CCCN1C(=O)c1cccs1)c1ccccc1\n",
        "CHEMBL3092843 CCOC(=O)/C=C/CC[C@H](NC(=O)OCc1ccccc1)C(=O)N[C@@H](CCC(N)=O)C(=O)N1CCC[C@H]1C(=O)N[C@@H](CC(C)C)C(=O)OC\n",
        "CHEMBL3086654 CC(C)C[C@H](N)C(=O)N[C@@H](CC(C)C)C(=O)N1CCC[C@H]1C(=O)N[C@@H](CCCNC(=N)N)C(=O)N[C@H](C(=O)N[C@@H](C)C(=O)NC(C(=O)NCC(=O)N[C@@H](CO)C(=O)N[C@@H](CO)C(=O)N[C@@H](Cc1ccccc1)C(=O)N[C@H](C(=O)N[C@H](C(=O)N[C@H](C(=O)O)C(C)C)[C@@H](C)O)C(C)C)C(C)(C)C)C(C)C\n"
       ]
      }
     ],
     "prompt_number": 14
    },
    {
     "cell_type": "code",
     "collapsed": false,
     "input": [
      "smiles_substructure_query('NC(=O)[C@H]1CCCN1C=O')"
     ],
     "language": "python",
     "metadata": {},
     "outputs": [
      {
       "output_type": "stream",
       "stream": "stdout",
       "text": [
        "NC(=O)[C@H]1CCCN1C=O: 3049 matches\n",
        "CHEMBL3092586 CSCC[C@H](N)C(=O)N1CCC[C@@H]1C(=O)Nc1ccc([N+](=O)[O-])cc1\n",
        "CHEMBL2372316 CCOc1ccc(C[C@H]2NC(=O)CC3(CCCC(C(=O)N4CCC[C@@H]4C(=O)N[C@@H](CCCN=C(N)N)C(N)=O)NC(=O)[C@H](CC(N)=O)NC(=O)[C@H](C(C)C)NC(=O)[C@H](Cc4ccccc4)NC2=O)CCCCC3)cc1\n",
        "CHEMBL3278504 CC[C@H](C)[C@H](NC(=O)[C@H](Cc1ccc(O)cc1)NC(=O)[C@@H]1CCCN1C(=O)[C@H](CCCNC(=N)N)NC(=O)[C@H](CCCNC(=N)N)NC(=O)[C@H]1CCCN1C(=O)[C@H](CCCCN)NC(=O)[C@H](CC(N)=O)NC(=O)[C@H](CCC(=O)O)NC(=O)[C@H](Cc1ccc(O)cc1)NC(=O)[C@H](CC(C)C)NC(=O)[C@@H]1CCC(=O)N1)C(=O)N[C@@H](CC(C)C)C(=O)O\n",
        "CHEMBL2367768 CC(=O)N[C@@H](CCCCNC(=O)c1cc(NC(=O)CNC(=O)[C@H]2CCCN2C(=O)C[C@@H]2O[C@@H](CO)[C@H](O)[C@H](O)[C@@H]2O)cc(NC(=O)CNC(=O)[C@@H]2CCCN2C(=O)C[C@H]2O[C@@H](CO)[C@H](O)[C@H](O)[C@@H]2O)c1)C(=O)NCC(=O)NCc1ccccc1\n",
        "CHEMBL3221407 CC(C)C[C@@H]1C(=O)N(C)[C@@H](CC(=O)O)C(=O)N[C@@H](CC(C)C)C(=O)N2CCC[C@@H]2C(=O)N(C)[C@@H](Cc2ccc(O)cc2)C(=O)N[C@@H](CC(C)C)C(=O)N1C\n"
       ]
      }
     ],
     "prompt_number": 15
    }
   ],
   "metadata": {}
  }
 ]
}