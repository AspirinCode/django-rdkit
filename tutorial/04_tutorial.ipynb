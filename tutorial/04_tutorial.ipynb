{
 "metadata": {
  "name": "",
  "signature": "sha256:f43045b5150f6ebf921fdb3e0ef42460cb52bbdb1c046ffa616fd9c1add51c58"
 },
 "nbformat": 3,
 "nbformat_minor": 0,
 "worksheets": [
  {
   "cells": [
    {
     "cell_type": "code",
     "collapsed": false,
     "input": [
      "import os\n",
      "\n",
      "import django\n",
      "from django.core.management import call_command\n",
      "\n",
      "os.environ['DJANGO_SETTINGS_MODULE'] = 'tutorial.settings'\n",
      "\n",
      "django.setup()\n"
     ],
     "language": "python",
     "metadata": {},
     "outputs": [],
     "prompt_number": 1
    },
    {
     "cell_type": "code",
     "collapsed": false,
     "input": [
      "from django_rdkit.models import *\n",
      "from app.models import Compound\n",
      "\n",
      "Compound.objects.update(\n",
      "    torsionbv=TORSIONBV_FP('molecule'),\n",
      "    mfp2=MORGANBV_FP('molecule'),\n",
      "    ffp2=FEATMORGANBV_FP('molecule'),\n",
      "    )"
     ],
     "language": "python",
     "metadata": {},
     "outputs": [
      {
       "metadata": {},
       "output_type": "pyout",
       "prompt_number": 2,
       "text": [
        "1455712"
       ]
      }
     ],
     "prompt_number": 2
    },
    {
     "cell_type": "code",
     "collapsed": false,
     "input": [],
     "language": "python",
     "metadata": {},
     "outputs": []
    }
   ],
   "metadata": {}
  }
 ]
}