{
 "metadata": {
  "name": "",
  "signature": "sha256:d5f75fb22fda42b793028ea5224913b098ecbc7ca1234052a0b7b7475968223a"
 },
 "nbformat": 3,
 "nbformat_minor": 0,
 "worksheets": [
  {
   "cells": [
    {
     "cell_type": "code",
     "collapsed": false,
     "input": [
      "import os\n",
      "\n",
      "import django\n",
      "from django.core.management import call_command\n",
      "\n",
      "os.environ['DJANGO_SETTINGS_MODULE'] = 'tutorial.settings'\n",
      "\n",
      "django.setup()\n"
     ],
     "language": "python",
     "metadata": {},
     "outputs": [],
     "prompt_number": 1
    },
    {
     "cell_type": "code",
     "collapsed": false,
     "input": [
      "from django_rdkit.db.models import *\n",
      "\n",
      "from app.models import *\n",
      "\n",
      "smiles = 'Cc1ccc2nc(-c3ccc(NC(C4N(C(c5cccs5)=O)CCC4)=O)cc3)sc2c1'\n",
      "\n",
      "print Compound.objects.filter(mfp2__tanimoto=MORGANBV_FP(Value(smiles))).count()"
     ],
     "language": "python",
     "metadata": {},
     "outputs": [
      {
       "output_type": "stream",
       "stream": "stdout",
       "text": [
        "67\n"
       ]
      }
     ],
     "prompt_number": 2
    },
    {
     "cell_type": "code",
     "collapsed": false,
     "input": [
      "value = MORGANBV_FP(Value(smiles))\n",
      "\n",
      "queryset = Compound.objects.filter(mfp2__tanimoto=value) # look for similar compoundw\n",
      "queryset = queryset.annotate(smiles=MOL_TO_SMILES('molecule')) # annotate the objects with the smiles values\n",
      "queryset = queryset.annotate(sml=TANIMOTO_SML('mfp2', value)) # and with the similarity value\n",
      "queryset = queryset.order_by(TANIMOTO_DIST('mfp2', value)) # order by distance (asc)\n",
      "queryset = queryset.values_list('name', 'smiles', 'sml') # and only return the object name, smiles and similarity.\n",
      "\n",
      "# peek into the generated SQL\n",
      "print queryset.query"
     ],
     "language": "python",
     "metadata": {},
     "outputs": [
      {
       "output_type": "stream",
       "stream": "stdout",
       "text": [
        "SELECT \"app_compound\".\"name\", mol_to_smiles(\"app_compound\".\"molecule\") AS \"smiles\", tanimoto_sml(\"app_compound\".\"mfp2\", morganbv_fp(Cc1ccc2nc(-c3ccc(NC(C4N(C(c5cccs5)=O)CCC4)=O)cc3)sc2c1)) AS \"sml\" FROM \"app_compound\" WHERE \"app_compound\".\"mfp2\" % (morganbv_fp(Cc1ccc2nc(-c3ccc(NC(C4N(C(c5cccs5)=O)CCC4)=O)cc3)sc2c1)) ORDER BY (\"app_compound\".\"mfp2\" <%> morganbv_fp(Cc1ccc2nc(-c3ccc(NC(C4N(C(c5cccs5)=O)CCC4)=O)cc3)sc2c1)) ASC\n"
       ]
      }
     ],
     "prompt_number": 3
    },
    {
     "cell_type": "code",
     "collapsed": false,
     "input": [
      "# the above query, wrapped into a function\n",
      "\n",
      "def get_mfp2_neighbors(smiles):\n",
      "    value = MORGANBV_FP(Value(smiles))\n",
      "\n",
      "    queryset = Compound.objects.filter(mfp2__tanimoto=value) \n",
      "    queryset = queryset.annotate(smiles=MOL_TO_SMILES('molecule')) \n",
      "    queryset = queryset.annotate(sml=TANIMOTO_SML('mfp2', value))\n",
      "    queryset = queryset.order_by(TANIMOTO_DIST('mfp2', value)) \n",
      "    queryset = queryset.values_list('name', 'smiles', 'sml') \n",
      "\n",
      "    return queryset"
     ],
     "language": "python",
     "metadata": {},
     "outputs": [],
     "prompt_number": 4
    },
    {
     "cell_type": "code",
     "collapsed": false,
     "input": [
      "for name, smiles, sml in get_mfp2_neighbors('Cc1ccc2nc(-c3ccc(NC(C4N(C(c5cccs5)=O)CCC4)=O)cc3)sc2c1')[:10]:\n",
      "    print name, smiles, sml"
     ],
     "language": "python",
     "metadata": {},
     "outputs": [
      {
       "output_type": "stream",
       "stream": "stdout",
       "text": [
        "CHEMBL467428 Cc1ccc2nc(-c3ccc(NC(=O)C4CCN(C(=O)c5cccs5)CC4)cc3)sc2c1 0.772727272727\n",
        "CHEMBL461435 Cc1ccc2nc(-c3ccc(NC(=O)C4CCCN(S(=O)(=O)c5cccs5)C4)cc3)sc2c1 0.657534246575\n",
        "CHEMBL460340 Cc1ccc2nc(-c3ccc(NC(=O)C4CCN(S(=O)(=O)c5cccs5)CC4)cc3)sc2c1 0.647887323944\n",
        "CHEMBL460588 Cc1ccc2nc(-c3ccc(NC(=O)C4CCN(S(=O)(=O)c5cccs5)C4)cc3)sc2c1 0.638888888889\n",
        "CHEMBL1608585 O=C(Nc1nc2ccc(Cl)cc2s1)[C@@H]1CCCN1C(=O)c1cccs1 0.623188405797\n",
        "CHEMBL1327784 COc1ccc2nc(NC(=O)[C@@H]3CCCN3C(=O)c3cccs3)sc2c1 0.619718309859\n",
        "CHEMBL518028 Cc1ccc2nc(-c3ccc(NC(=O)C4CN(S(=O)(=O)c5cccs5)C4)cc3)sc2c1 0.611111111111\n",
        "CHEMBL1316870 Cc1ccc(NC(=O)C2CCCN2C(=O)c2cccs2)cc1C 0.606060606061\n",
        "CHEMBL1309021 O=C(Nc1ccc(S(=O)(=O)N2CCCC2)cc1)C1CCCN1C(=O)c1cccs1 0.602941176471\n",
        "CHEMBL1706764 Cc1ccc(NC(=O)C2CCCN2C(=O)c2cccs2)c(C)c1 0.597014925373\n"
       ]
      }
     ],
     "prompt_number": 5
    },
    {
     "cell_type": "code",
     "collapsed": false,
     "input": [
      "for name, smiles, sml in get_mfp2_neighbors('Cc1ccc2nc(N(C)CC(=O)O)sc2c1')[:10]:\n",
      "    print name, smiles, sml"
     ],
     "language": "python",
     "metadata": {},
     "outputs": [
      {
       "output_type": "stream",
       "stream": "stdout",
       "text": [
        "CHEMBL394654 Cc1ccc2nc(N(C)CCN(C)c3nc4ccc(C)cc4s3)sc2c1 0.692307692308\n",
        "CHEMBL491074 CN(CC(=O)O)c1nc2cc([N+](=O)[O-])ccc2s1 0.583333333333\n",
        "CHEMBL1617304 CC(=O)N(CCCN(C)C)c1nc2ccc(C)cc2s1 0.571428571429\n",
        "CHEMBL1350062 Cl.CC(=O)N(CCCN(C)C)c1nc2ccc(C)cc2s1 0.549019607843\n",
        "CHEMBL1621941 Cc1ccc2nc(N(CCN(C)C)C(=O)c3cc(Cl)sc3Cl)sc2c1 0.518518518519\n",
        "CHEMBL1617545 Cc1ccc2nc(N(CCCN(C)C)C(=O)CCc3ccccc3)sc2c1 0.517857142857\n",
        "CHEMBL1626442 Cc1ccc2nc(N(CCCN(C)C)C(=O)CS(=O)(=O)c3ccccc3)sc2c1 0.517857142857\n",
        "CHEMBL406760 Cc1ccc2nc(NC(=O)CCC(=O)O)sc2c1 0.510204081633\n",
        "CHEMBL1620007 Cc1ccc2nc(N(CCN(C)C)C(=O)c3ccc4ccccc4c3)sc2c1 0.509090909091\n",
        "CHEMBL1624740 Cc1ccc(S(=O)(=O)CC(=O)N(CCCN(C)C)c2nc3ccc(C)cc3s2)cc1 0.509090909091\n"
       ]
      }
     ],
     "prompt_number": 6
    },
    {
     "cell_type": "markdown",
     "metadata": {},
     "source": [
      "Adjusting the similarity cutoff"
     ]
    },
    {
     "cell_type": "code",
     "collapsed": false,
     "input": [
      "print get_mfp2_neighbors('Cc1ccc2nc(N(C)CC(=O)O)sc2c1').count()"
     ],
     "language": "python",
     "metadata": {},
     "outputs": [
      {
       "output_type": "stream",
       "stream": "stdout",
       "text": [
        "18\n"
       ]
      }
     ],
     "prompt_number": 7
    },
    {
     "cell_type": "code",
     "collapsed": false,
     "input": [
      "from django_rdkit.db.backends.postgresql_psycopg2.config import config\n",
      "\n",
      "config.tanimoto_threshold = 0.7"
     ],
     "language": "python",
     "metadata": {},
     "outputs": [],
     "prompt_number": 8
    },
    {
     "cell_type": "code",
     "collapsed": false,
     "input": [
      "print get_mfp2_neighbors('Cc1ccc2nc(N(C)CC(=O)O)sc2c1').count()"
     ],
     "language": "python",
     "metadata": {},
     "outputs": [
      {
       "output_type": "stream",
       "stream": "stdout",
       "text": [
        "0\n"
       ]
      }
     ],
     "prompt_number": 9
    },
    {
     "cell_type": "code",
     "collapsed": false,
     "input": [
      "config.tanimoto_threshold = 0.6"
     ],
     "language": "python",
     "metadata": {},
     "outputs": [],
     "prompt_number": 10
    },
    {
     "cell_type": "code",
     "collapsed": false,
     "input": [
      "print get_mfp2_neighbors('Cc1ccc2nc(N(C)CC(=O)O)sc2c1').count()"
     ],
     "language": "python",
     "metadata": {},
     "outputs": [
      {
       "output_type": "stream",
       "stream": "stdout",
       "text": [
        "1\n"
       ]
      }
     ],
     "prompt_number": 11
    },
    {
     "cell_type": "code",
     "collapsed": false,
     "input": [
      "config.tanimoto_threshold = 0.5"
     ],
     "language": "python",
     "metadata": {},
     "outputs": [],
     "prompt_number": 12
    },
    {
     "cell_type": "code",
     "collapsed": false,
     "input": [
      "print get_mfp2_neighbors('Cc1ccc2nc(N(C)CC(=O)O)sc2c1').count()"
     ],
     "language": "python",
     "metadata": {},
     "outputs": [
      {
       "output_type": "stream",
       "stream": "stdout",
       "text": [
        "18\n"
       ]
      }
     ],
     "prompt_number": 13
    }
   ],
   "metadata": {}
  }
 ]
}